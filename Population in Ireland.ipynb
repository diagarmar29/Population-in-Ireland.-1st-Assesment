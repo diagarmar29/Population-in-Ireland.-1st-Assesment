{
 "cells": [
  {
   "cell_type": "markdown",
   "id": "df003ee4",
   "metadata": {},
   "source": [
    "# Population Ireland"
   ]
  },
  {
   "cell_type": "markdown",
   "id": "276629bd",
   "metadata": {},
   "source": [
    "Import libraries"
   ]
  },
  {
   "cell_type": "code",
   "execution_count": 1,
   "id": "8c6e071d",
   "metadata": {},
   "outputs": [],
   "source": [
    "import pandas as pd\n",
    "import numpy as np\n",
    "import os \n",
    "import seaborn as  sns\n",
    "import math\n",
    "from matplotlib import pyplot as plt"
   ]
  },
  {
   "cell_type": "markdown",
   "id": "ef1a86fd",
   "metadata": {},
   "source": [
    "Import DataBases"
   ]
  },
  {
   "cell_type": "code",
   "execution_count": 2,
   "id": "dc0e412a",
   "metadata": {},
   "outputs": [],
   "source": [
    "AP=pd.read_csv(\"Annual Population Change 1950-2023.csv\")\n",
    "EE=pd.read_csv(\"Estimated Emigration  Citizenship 2006-2023.csv\")\n",
    "EM=pd.read_csv(\"Estimated Migration. Origin or Destination 1987-2023.csv\")\n",
    "EPC=pd.read_csv(\"Estimated Population Citizenship 2006-2023.csv\")\n",
    "PEA=pd.read_csv(\"Population Estimates Age Group 1950-2023.csv\")\n",
    " #Additional databases\n",
    "NIC=pd.read_csv(\"Non-Irish citizens usually resident and present in the State by country of citizenship 2022 EXTRA.csv\")\n",
    "PAE=pd.read_csv(\"Population Ability to speak English 2022 EXTRA.csv\")"
   ]
  },
  {
   "cell_type": "markdown",
   "id": "03738c3a",
   "metadata": {},
   "source": [
    "# #  Annual Population Change since 1950"
   ]
  },
  {
   "cell_type": "markdown",
   "id": "63f204de",
   "metadata": {},
   "source": [
    "Review of database\n",
    "\n",
    "Type of files\n",
    "\n",
    "Renaming of headers "
   ]
  },
  {
   "cell_type": "code",
   "execution_count": 377,
   "id": "962a4d60",
   "metadata": {},
   "outputs": [
    {
     "data": {
      "text/html": [
       "<div>\n",
       "<style scoped>\n",
       "    .dataframe tbody tr th:only-of-type {\n",
       "        vertical-align: middle;\n",
       "    }\n",
       "\n",
       "    .dataframe tbody tr th {\n",
       "        vertical-align: top;\n",
       "    }\n",
       "\n",
       "    .dataframe thead th {\n",
       "        text-align: right;\n",
       "    }\n",
       "</style>\n",
       "<table border=\"1\" class=\"dataframe\">\n",
       "  <thead>\n",
       "    <tr style=\"text-align: right;\">\n",
       "      <th></th>\n",
       "      <th>STATISTIC</th>\n",
       "      <th>Year</th>\n",
       "      <th>UNIT</th>\n",
       "      <th>Annual births</th>\n",
       "      <th>Annual deaths</th>\n",
       "      <th>Natural increase</th>\n",
       "      <th>Immigrants</th>\n",
       "      <th>Emigrants</th>\n",
       "      <th>Net migration</th>\n",
       "      <th>Population change</th>\n",
       "      <th>Population</th>\n",
       "    </tr>\n",
       "  </thead>\n",
       "  <tbody>\n",
       "    <tr>\n",
       "      <th>0</th>\n",
       "      <td>Annual Population Change</td>\n",
       "      <td>1951</td>\n",
       "      <td>Thousand</td>\n",
       "      <td>NaN</td>\n",
       "      <td>NaN</td>\n",
       "      <td>26.6</td>\n",
       "      <td>NaN</td>\n",
       "      <td>NaN</td>\n",
       "      <td>-35.0</td>\n",
       "      <td>-8.4</td>\n",
       "      <td>2960.6</td>\n",
       "    </tr>\n",
       "    <tr>\n",
       "      <th>1</th>\n",
       "      <td>Annual Population Change</td>\n",
       "      <td>1952</td>\n",
       "      <td>Thousand</td>\n",
       "      <td>NaN</td>\n",
       "      <td>NaN</td>\n",
       "      <td>27.3</td>\n",
       "      <td>NaN</td>\n",
       "      <td>NaN</td>\n",
       "      <td>-35.0</td>\n",
       "      <td>-7.7</td>\n",
       "      <td>2952.9</td>\n",
       "    </tr>\n",
       "    <tr>\n",
       "      <th>2</th>\n",
       "      <td>Annual Population Change</td>\n",
       "      <td>1953</td>\n",
       "      <td>Thousand</td>\n",
       "      <td>NaN</td>\n",
       "      <td>NaN</td>\n",
       "      <td>29.1</td>\n",
       "      <td>NaN</td>\n",
       "      <td>NaN</td>\n",
       "      <td>-33.0</td>\n",
       "      <td>-3.9</td>\n",
       "      <td>2949.0</td>\n",
       "    </tr>\n",
       "    <tr>\n",
       "      <th>3</th>\n",
       "      <td>Annual Population Change</td>\n",
       "      <td>1954</td>\n",
       "      <td>Thousand</td>\n",
       "      <td>NaN</td>\n",
       "      <td>NaN</td>\n",
       "      <td>28.2</td>\n",
       "      <td>NaN</td>\n",
       "      <td>NaN</td>\n",
       "      <td>-36.0</td>\n",
       "      <td>-7.8</td>\n",
       "      <td>2941.2</td>\n",
       "    </tr>\n",
       "    <tr>\n",
       "      <th>4</th>\n",
       "      <td>Annual Population Change</td>\n",
       "      <td>1955</td>\n",
       "      <td>Thousand</td>\n",
       "      <td>NaN</td>\n",
       "      <td>NaN</td>\n",
       "      <td>24.7</td>\n",
       "      <td>NaN</td>\n",
       "      <td>NaN</td>\n",
       "      <td>-45.0</td>\n",
       "      <td>-20.3</td>\n",
       "      <td>2920.9</td>\n",
       "    </tr>\n",
       "  </tbody>\n",
       "</table>\n",
       "</div>"
      ],
      "text/plain": [
       "                  STATISTIC  Year      UNIT  Annual births  Annual deaths  \\\n",
       "0  Annual Population Change  1951  Thousand            NaN            NaN   \n",
       "1  Annual Population Change  1952  Thousand            NaN            NaN   \n",
       "2  Annual Population Change  1953  Thousand            NaN            NaN   \n",
       "3  Annual Population Change  1954  Thousand            NaN            NaN   \n",
       "4  Annual Population Change  1955  Thousand            NaN            NaN   \n",
       "\n",
       "   Natural increase  Immigrants  Emigrants  Net migration  Population change  \\\n",
       "0              26.6         NaN        NaN          -35.0               -8.4   \n",
       "1              27.3         NaN        NaN          -35.0               -7.7   \n",
       "2              29.1         NaN        NaN          -33.0               -3.9   \n",
       "3              28.2         NaN        NaN          -36.0               -7.8   \n",
       "4              24.7         NaN        NaN          -45.0              -20.3   \n",
       "\n",
       "   Population  \n",
       "0      2960.6  \n",
       "1      2952.9  \n",
       "2      2949.0  \n",
       "3      2941.2  \n",
       "4      2920.9  "
      ]
     },
     "execution_count": 377,
     "metadata": {},
     "output_type": "execute_result"
    }
   ],
   "source": [
    "AP.head()"
   ]
  },
  {
   "cell_type": "code",
   "execution_count": 378,
   "id": "3f1f4d6a",
   "metadata": {},
   "outputs": [],
   "source": [
    "AP_1=AP.copy()"
   ]
  },
  {
   "cell_type": "code",
   "execution_count": 379,
   "id": "d20f8a60",
   "metadata": {},
   "outputs": [],
   "source": [
    "AP=AP.rename (columns= {'Population change':'Total of the Population change','Population':'Total Population of the year'})\n",
    "AP= AP.drop(['STATISTIC','UNIT'],axis= 1)"
   ]
  },
  {
   "cell_type": "code",
   "execution_count": 380,
   "id": "aeff0803",
   "metadata": {},
   "outputs": [
    {
     "data": {
      "text/html": [
       "<div>\n",
       "<style scoped>\n",
       "    .dataframe tbody tr th:only-of-type {\n",
       "        vertical-align: middle;\n",
       "    }\n",
       "\n",
       "    .dataframe tbody tr th {\n",
       "        vertical-align: top;\n",
       "    }\n",
       "\n",
       "    .dataframe thead th {\n",
       "        text-align: right;\n",
       "    }\n",
       "</style>\n",
       "<table border=\"1\" class=\"dataframe\">\n",
       "  <thead>\n",
       "    <tr style=\"text-align: right;\">\n",
       "      <th></th>\n",
       "      <th>Year</th>\n",
       "      <th>Annual births</th>\n",
       "      <th>Annual deaths</th>\n",
       "      <th>Natural increase</th>\n",
       "      <th>Immigrants</th>\n",
       "      <th>Emigrants</th>\n",
       "      <th>Net migration</th>\n",
       "      <th>Total of the Population change</th>\n",
       "      <th>Total Population of the year</th>\n",
       "    </tr>\n",
       "  </thead>\n",
       "  <tbody>\n",
       "    <tr>\n",
       "      <th>0</th>\n",
       "      <td>1951</td>\n",
       "      <td>NaN</td>\n",
       "      <td>NaN</td>\n",
       "      <td>26.6</td>\n",
       "      <td>NaN</td>\n",
       "      <td>NaN</td>\n",
       "      <td>-35.0</td>\n",
       "      <td>-8.4</td>\n",
       "      <td>2960.6</td>\n",
       "    </tr>\n",
       "    <tr>\n",
       "      <th>1</th>\n",
       "      <td>1952</td>\n",
       "      <td>NaN</td>\n",
       "      <td>NaN</td>\n",
       "      <td>27.3</td>\n",
       "      <td>NaN</td>\n",
       "      <td>NaN</td>\n",
       "      <td>-35.0</td>\n",
       "      <td>-7.7</td>\n",
       "      <td>2952.9</td>\n",
       "    </tr>\n",
       "    <tr>\n",
       "      <th>2</th>\n",
       "      <td>1953</td>\n",
       "      <td>NaN</td>\n",
       "      <td>NaN</td>\n",
       "      <td>29.1</td>\n",
       "      <td>NaN</td>\n",
       "      <td>NaN</td>\n",
       "      <td>-33.0</td>\n",
       "      <td>-3.9</td>\n",
       "      <td>2949.0</td>\n",
       "    </tr>\n",
       "    <tr>\n",
       "      <th>3</th>\n",
       "      <td>1954</td>\n",
       "      <td>NaN</td>\n",
       "      <td>NaN</td>\n",
       "      <td>28.2</td>\n",
       "      <td>NaN</td>\n",
       "      <td>NaN</td>\n",
       "      <td>-36.0</td>\n",
       "      <td>-7.8</td>\n",
       "      <td>2941.2</td>\n",
       "    </tr>\n",
       "    <tr>\n",
       "      <th>4</th>\n",
       "      <td>1955</td>\n",
       "      <td>NaN</td>\n",
       "      <td>NaN</td>\n",
       "      <td>24.7</td>\n",
       "      <td>NaN</td>\n",
       "      <td>NaN</td>\n",
       "      <td>-45.0</td>\n",
       "      <td>-20.3</td>\n",
       "      <td>2920.9</td>\n",
       "    </tr>\n",
       "    <tr>\n",
       "      <th>...</th>\n",
       "      <td>...</td>\n",
       "      <td>...</td>\n",
       "      <td>...</td>\n",
       "      <td>...</td>\n",
       "      <td>...</td>\n",
       "      <td>...</td>\n",
       "      <td>...</td>\n",
       "      <td>...</td>\n",
       "      <td>...</td>\n",
       "    </tr>\n",
       "    <tr>\n",
       "      <th>68</th>\n",
       "      <td>2019</td>\n",
       "      <td>60.5</td>\n",
       "      <td>30.9</td>\n",
       "      <td>29.6</td>\n",
       "      <td>97.1</td>\n",
       "      <td>53.1</td>\n",
       "      <td>44.0</td>\n",
       "      <td>73.6</td>\n",
       "      <td>4958.5</td>\n",
       "    </tr>\n",
       "    <tr>\n",
       "      <th>69</th>\n",
       "      <td>2020</td>\n",
       "      <td>59.1</td>\n",
       "      <td>32.4</td>\n",
       "      <td>26.7</td>\n",
       "      <td>95.6</td>\n",
       "      <td>50.9</td>\n",
       "      <td>44.7</td>\n",
       "      <td>71.4</td>\n",
       "      <td>5029.9</td>\n",
       "    </tr>\n",
       "    <tr>\n",
       "      <th>70</th>\n",
       "      <td>2021</td>\n",
       "      <td>57.3</td>\n",
       "      <td>34.3</td>\n",
       "      <td>23.0</td>\n",
       "      <td>74.1</td>\n",
       "      <td>52.3</td>\n",
       "      <td>21.8</td>\n",
       "      <td>44.8</td>\n",
       "      <td>5074.7</td>\n",
       "    </tr>\n",
       "    <tr>\n",
       "      <th>71</th>\n",
       "      <td>2022</td>\n",
       "      <td>59.7</td>\n",
       "      <td>33.6</td>\n",
       "      <td>26.1</td>\n",
       "      <td>107.8</td>\n",
       "      <td>56.1</td>\n",
       "      <td>51.7</td>\n",
       "      <td>77.8</td>\n",
       "      <td>5184.0</td>\n",
       "    </tr>\n",
       "    <tr>\n",
       "      <th>72</th>\n",
       "      <td>2023</td>\n",
       "      <td>55.5</td>\n",
       "      <td>35.5</td>\n",
       "      <td>20.0</td>\n",
       "      <td>141.6</td>\n",
       "      <td>64.0</td>\n",
       "      <td>77.6</td>\n",
       "      <td>97.6</td>\n",
       "      <td>5281.6</td>\n",
       "    </tr>\n",
       "  </tbody>\n",
       "</table>\n",
       "<p>73 rows × 9 columns</p>\n",
       "</div>"
      ],
      "text/plain": [
       "    Year  Annual births  Annual deaths  Natural increase  Immigrants  \\\n",
       "0   1951            NaN            NaN              26.6         NaN   \n",
       "1   1952            NaN            NaN              27.3         NaN   \n",
       "2   1953            NaN            NaN              29.1         NaN   \n",
       "3   1954            NaN            NaN              28.2         NaN   \n",
       "4   1955            NaN            NaN              24.7         NaN   \n",
       "..   ...            ...            ...               ...         ...   \n",
       "68  2019           60.5           30.9              29.6        97.1   \n",
       "69  2020           59.1           32.4              26.7        95.6   \n",
       "70  2021           57.3           34.3              23.0        74.1   \n",
       "71  2022           59.7           33.6              26.1       107.8   \n",
       "72  2023           55.5           35.5              20.0       141.6   \n",
       "\n",
       "    Emigrants  Net migration  Total of the Population change  \\\n",
       "0         NaN          -35.0                            -8.4   \n",
       "1         NaN          -35.0                            -7.7   \n",
       "2         NaN          -33.0                            -3.9   \n",
       "3         NaN          -36.0                            -7.8   \n",
       "4         NaN          -45.0                           -20.3   \n",
       "..        ...            ...                             ...   \n",
       "68       53.1           44.0                            73.6   \n",
       "69       50.9           44.7                            71.4   \n",
       "70       52.3           21.8                            44.8   \n",
       "71       56.1           51.7                            77.8   \n",
       "72       64.0           77.6                            97.6   \n",
       "\n",
       "    Total Population of the year  \n",
       "0                         2960.6  \n",
       "1                         2952.9  \n",
       "2                         2949.0  \n",
       "3                         2941.2  \n",
       "4                         2920.9  \n",
       "..                           ...  \n",
       "68                        4958.5  \n",
       "69                        5029.9  \n",
       "70                        5074.7  \n",
       "71                        5184.0  \n",
       "72                        5281.6  \n",
       "\n",
       "[73 rows x 9 columns]"
      ]
     },
     "execution_count": 380,
     "metadata": {},
     "output_type": "execute_result"
    }
   ],
   "source": [
    "AP"
   ]
  },
  {
   "cell_type": "code",
   "execution_count": 381,
   "id": "db73bee5",
   "metadata": {},
   "outputs": [
    {
     "data": {
      "text/plain": [
       "(73, 9)"
      ]
     },
     "execution_count": 381,
     "metadata": {},
     "output_type": "execute_result"
    }
   ],
   "source": [
    "AP.shape"
   ]
  },
  {
   "cell_type": "code",
   "execution_count": 198,
   "id": "fc47e256",
   "metadata": {},
   "outputs": [
    {
     "data": {
      "text/plain": [
       "Year                               0\n",
       "Annual births                     36\n",
       "Annual deaths                     36\n",
       "Natural increase                   0\n",
       "Immigrants                        36\n",
       "Emigrants                         36\n",
       "Net migration                      0\n",
       "Total of the Population change     0\n",
       "Total Population of the year       0\n",
       "dtype: int64"
      ]
     },
     "execution_count": 198,
     "metadata": {},
     "output_type": "execute_result"
    }
   ],
   "source": [
    "AP.isnull().sum()"
   ]
  },
  {
   "cell_type": "code",
   "execution_count": 199,
   "id": "0c57aca7",
   "metadata": {},
   "outputs": [
    {
     "name": "stdout",
     "output_type": "stream",
     "text": [
      "0    True\n",
      "1    True\n",
      "2    True\n",
      "3    True\n",
      "4    True\n",
      "Name: Annual births, dtype: bool\n"
     ]
    }
   ],
   "source": [
    "print(AP[\"Annual births\"].isnull().head())"
   ]
  },
  {
   "cell_type": "code",
   "execution_count": 200,
   "id": "020ca197",
   "metadata": {},
   "outputs": [
    {
     "data": {
      "text/html": [
       "<div>\n",
       "<style scoped>\n",
       "    .dataframe tbody tr th:only-of-type {\n",
       "        vertical-align: middle;\n",
       "    }\n",
       "\n",
       "    .dataframe tbody tr th {\n",
       "        vertical-align: top;\n",
       "    }\n",
       "\n",
       "    .dataframe thead th {\n",
       "        text-align: right;\n",
       "    }\n",
       "</style>\n",
       "<table border=\"1\" class=\"dataframe\">\n",
       "  <thead>\n",
       "    <tr style=\"text-align: right;\">\n",
       "      <th></th>\n",
       "      <th>Year</th>\n",
       "      <th>Annual births</th>\n",
       "      <th>Annual deaths</th>\n",
       "      <th>Natural increase</th>\n",
       "      <th>Immigrants</th>\n",
       "      <th>Emigrants</th>\n",
       "      <th>Net migration</th>\n",
       "      <th>Total of the Population change</th>\n",
       "      <th>Total Population of the year</th>\n",
       "    </tr>\n",
       "  </thead>\n",
       "  <tbody>\n",
       "    <tr>\n",
       "      <th>0</th>\n",
       "      <td>True</td>\n",
       "      <td>False</td>\n",
       "      <td>False</td>\n",
       "      <td>True</td>\n",
       "      <td>False</td>\n",
       "      <td>False</td>\n",
       "      <td>True</td>\n",
       "      <td>True</td>\n",
       "      <td>True</td>\n",
       "    </tr>\n",
       "    <tr>\n",
       "      <th>1</th>\n",
       "      <td>True</td>\n",
       "      <td>False</td>\n",
       "      <td>False</td>\n",
       "      <td>True</td>\n",
       "      <td>False</td>\n",
       "      <td>False</td>\n",
       "      <td>True</td>\n",
       "      <td>True</td>\n",
       "      <td>True</td>\n",
       "    </tr>\n",
       "    <tr>\n",
       "      <th>2</th>\n",
       "      <td>True</td>\n",
       "      <td>False</td>\n",
       "      <td>False</td>\n",
       "      <td>True</td>\n",
       "      <td>False</td>\n",
       "      <td>False</td>\n",
       "      <td>True</td>\n",
       "      <td>True</td>\n",
       "      <td>True</td>\n",
       "    </tr>\n",
       "    <tr>\n",
       "      <th>3</th>\n",
       "      <td>True</td>\n",
       "      <td>False</td>\n",
       "      <td>False</td>\n",
       "      <td>True</td>\n",
       "      <td>False</td>\n",
       "      <td>False</td>\n",
       "      <td>True</td>\n",
       "      <td>True</td>\n",
       "      <td>True</td>\n",
       "    </tr>\n",
       "    <tr>\n",
       "      <th>4</th>\n",
       "      <td>True</td>\n",
       "      <td>False</td>\n",
       "      <td>False</td>\n",
       "      <td>True</td>\n",
       "      <td>False</td>\n",
       "      <td>False</td>\n",
       "      <td>True</td>\n",
       "      <td>True</td>\n",
       "      <td>True</td>\n",
       "    </tr>\n",
       "    <tr>\n",
       "      <th>...</th>\n",
       "      <td>...</td>\n",
       "      <td>...</td>\n",
       "      <td>...</td>\n",
       "      <td>...</td>\n",
       "      <td>...</td>\n",
       "      <td>...</td>\n",
       "      <td>...</td>\n",
       "      <td>...</td>\n",
       "      <td>...</td>\n",
       "    </tr>\n",
       "    <tr>\n",
       "      <th>68</th>\n",
       "      <td>True</td>\n",
       "      <td>True</td>\n",
       "      <td>True</td>\n",
       "      <td>True</td>\n",
       "      <td>True</td>\n",
       "      <td>True</td>\n",
       "      <td>True</td>\n",
       "      <td>True</td>\n",
       "      <td>True</td>\n",
       "    </tr>\n",
       "    <tr>\n",
       "      <th>69</th>\n",
       "      <td>True</td>\n",
       "      <td>True</td>\n",
       "      <td>True</td>\n",
       "      <td>True</td>\n",
       "      <td>True</td>\n",
       "      <td>True</td>\n",
       "      <td>True</td>\n",
       "      <td>True</td>\n",
       "      <td>True</td>\n",
       "    </tr>\n",
       "    <tr>\n",
       "      <th>70</th>\n",
       "      <td>True</td>\n",
       "      <td>True</td>\n",
       "      <td>True</td>\n",
       "      <td>True</td>\n",
       "      <td>True</td>\n",
       "      <td>True</td>\n",
       "      <td>True</td>\n",
       "      <td>True</td>\n",
       "      <td>True</td>\n",
       "    </tr>\n",
       "    <tr>\n",
       "      <th>71</th>\n",
       "      <td>True</td>\n",
       "      <td>True</td>\n",
       "      <td>True</td>\n",
       "      <td>True</td>\n",
       "      <td>True</td>\n",
       "      <td>True</td>\n",
       "      <td>True</td>\n",
       "      <td>True</td>\n",
       "      <td>True</td>\n",
       "    </tr>\n",
       "    <tr>\n",
       "      <th>72</th>\n",
       "      <td>True</td>\n",
       "      <td>True</td>\n",
       "      <td>True</td>\n",
       "      <td>True</td>\n",
       "      <td>True</td>\n",
       "      <td>True</td>\n",
       "      <td>True</td>\n",
       "      <td>True</td>\n",
       "      <td>True</td>\n",
       "    </tr>\n",
       "  </tbody>\n",
       "</table>\n",
       "<p>73 rows × 9 columns</p>\n",
       "</div>"
      ],
      "text/plain": [
       "    Year  Annual births  Annual deaths  Natural increase  Immigrants  \\\n",
       "0   True          False          False              True       False   \n",
       "1   True          False          False              True       False   \n",
       "2   True          False          False              True       False   \n",
       "3   True          False          False              True       False   \n",
       "4   True          False          False              True       False   \n",
       "..   ...            ...            ...               ...         ...   \n",
       "68  True           True           True              True        True   \n",
       "69  True           True           True              True        True   \n",
       "70  True           True           True              True        True   \n",
       "71  True           True           True              True        True   \n",
       "72  True           True           True              True        True   \n",
       "\n",
       "    Emigrants  Net migration  Total of the Population change  \\\n",
       "0       False           True                            True   \n",
       "1       False           True                            True   \n",
       "2       False           True                            True   \n",
       "3       False           True                            True   \n",
       "4       False           True                            True   \n",
       "..        ...            ...                             ...   \n",
       "68       True           True                            True   \n",
       "69       True           True                            True   \n",
       "70       True           True                            True   \n",
       "71       True           True                            True   \n",
       "72       True           True                            True   \n",
       "\n",
       "    Total Population of the year  \n",
       "0                           True  \n",
       "1                           True  \n",
       "2                           True  \n",
       "3                           True  \n",
       "4                           True  \n",
       "..                           ...  \n",
       "68                          True  \n",
       "69                          True  \n",
       "70                          True  \n",
       "71                          True  \n",
       "72                          True  \n",
       "\n",
       "[73 rows x 9 columns]"
      ]
     },
     "execution_count": 200,
     "metadata": {},
     "output_type": "execute_result"
    }
   ],
   "source": [
    "AP.notnull()"
   ]
  },
  {
   "cell_type": "code",
   "execution_count": 201,
   "id": "81837b94",
   "metadata": {},
   "outputs": [],
   "source": [
    "#clase=AP.dropna(axis= \"columns\") will delete the whole column if any information is missing in any row, on a new file\n",
    "#clase=AP.dropna(axis= \"columns\", inplace = True)will delete the entire column if any information is missing in any row, from the original file.\n",
    "#AP.dropna(axis= 0 , inplace = True)will delete only the columns that have no information in the original file.\n",
    "\n",
    "AP.dropna(axis= 0 , inplace = True)"
   ]
  },
  {
   "cell_type": "code",
   "execution_count": 202,
   "id": "18253d24",
   "metadata": {},
   "outputs": [
    {
     "data": {
      "text/plain": [
       "Year                                int64\n",
       "Annual births                     float64\n",
       "Annual deaths                     float64\n",
       "Natural increase                  float64\n",
       "Immigrants                        float64\n",
       "Emigrants                         float64\n",
       "Net migration                     float64\n",
       "Total of the Population change    float64\n",
       "Total Population of the year      float64\n",
       "dtype: object"
      ]
     },
     "execution_count": 202,
     "metadata": {},
     "output_type": "execute_result"
    }
   ],
   "source": [
    "AP.dtypes\n"
   ]
  },
  {
   "cell_type": "code",
   "execution_count": 203,
   "id": "9f575b64",
   "metadata": {},
   "outputs": [
    {
     "name": "stdout",
     "output_type": "stream",
     "text": [
      "<class 'pandas.core.frame.DataFrame'>\n",
      "Int64Index: 37 entries, 36 to 72\n",
      "Data columns (total 9 columns):\n",
      " #   Column                          Non-Null Count  Dtype  \n",
      "---  ------                          --------------  -----  \n",
      " 0   Year                            37 non-null     int64  \n",
      " 1   Annual births                   37 non-null     float64\n",
      " 2   Annual deaths                   37 non-null     float64\n",
      " 3   Natural increase                37 non-null     float64\n",
      " 4   Immigrants                      37 non-null     float64\n",
      " 5   Emigrants                       37 non-null     float64\n",
      " 6   Net migration                   37 non-null     float64\n",
      " 7   Total of the Population change  37 non-null     float64\n",
      " 8   Total Population of the year    37 non-null     float64\n",
      "dtypes: float64(8), int64(1)\n",
      "memory usage: 2.9 KB\n"
     ]
    }
   ],
   "source": [
    "AP.info()"
   ]
  },
  {
   "cell_type": "code",
   "execution_count": 204,
   "id": "79a9c105",
   "metadata": {
    "scrolled": true
   },
   "outputs": [
    {
     "data": {
      "text/plain": [
       "Year                              37\n",
       "Annual births                     37\n",
       "Annual deaths                     37\n",
       "Natural increase                  37\n",
       "Immigrants                        37\n",
       "Emigrants                         37\n",
       "Net migration                     37\n",
       "Total of the Population change    37\n",
       "Total Population of the year      37\n",
       "dtype: int64"
      ]
     },
     "execution_count": 204,
     "metadata": {},
     "output_type": "execute_result"
    }
   ],
   "source": [
    "AP.count()"
   ]
  },
  {
   "cell_type": "code",
   "execution_count": 205,
   "id": "9bb2434b",
   "metadata": {},
   "outputs": [],
   "source": [
    "#First graphs of births and deaths by year "
   ]
  },
  {
   "cell_type": "code",
   "execution_count": 206,
   "id": "1111d4a4",
   "metadata": {},
   "outputs": [
    {
     "ename": "NameError",
     "evalue": "name 'plot' is not defined",
     "output_type": "error",
     "traceback": [
      "\u001b[1;31m---------------------------------------------------------------------------\u001b[0m",
      "\u001b[1;31mNameError\u001b[0m                                 Traceback (most recent call last)",
      "Cell \u001b[1;32mIn[206], line 4\u001b[0m\n\u001b[0;32m      2\u001b[0m AD \u001b[38;5;241m=\u001b[39m sns\u001b[38;5;241m.\u001b[39mbarplot(x\u001b[38;5;241m=\u001b[39m\u001b[38;5;124m'\u001b[39m\u001b[38;5;124mYear\u001b[39m\u001b[38;5;124m'\u001b[39m, y\u001b[38;5;241m=\u001b[39m\u001b[38;5;124m'\u001b[39m\u001b[38;5;124mAnnual births\u001b[39m\u001b[38;5;124m'\u001b[39m, data\u001b[38;5;241m=\u001b[39mAP)\n\u001b[0;32m      3\u001b[0m AD\u001b[38;5;241m.\u001b[39mset_xticklabels(AD\u001b[38;5;241m.\u001b[39mget_xticklabels(), rotation\u001b[38;5;241m=\u001b[39m\u001b[38;5;241m90\u001b[39m)\n\u001b[1;32m----> 4\u001b[0m plot\u001b[38;5;241m.\u001b[39mshow()\n",
      "\u001b[1;31mNameError\u001b[0m: name 'plot' is not defined"
     ]
    },
    {
     "data": {
      "image/png": "[encoded data removed]",
      "text/plain": [
       "<Figure size 640x480 with 1 Axes>"
      ]
     },
     "metadata": {},
     "output_type": "display_data"
    }
   ],
   "source": [
    "#Annual births\n",
    "AD = sns.barplot(x='Year', y='Annual births', data=AP)\n",
    "AD.set_xticklabels(AD.get_xticklabels(), rotation=90)\n",
    "plot.show()"
   ]
  },
  {
   "cell_type": "code",
   "execution_count": null,
   "id": "8a93f33c",
   "metadata": {},
   "outputs": [],
   "source": [
    "#Annual Deaths\n",
    "values=AP[[\"Year\",\"Annual births\",\"Annual deaths\",\"Natural increase\",\"Immigrants\",\"Emigrants\"]]\n",
    "ax= values.plot.bar(x=\"Year\", y=\"Annual deaths\")"
   ]
  },
  {
   "cell_type": "code",
   "execution_count": 207,
   "id": "9d2cdd6b",
   "metadata": {},
   "outputs": [],
   "source": [
    "#Comparative births and deaths in the same years"
   ]
  },
  {
   "cell_type": "code",
   "execution_count": 208,
   "id": "788ba2af",
   "metadata": {},
   "outputs": [
    {
     "ename": "TypeError",
     "evalue": "'Axes' object is not subscriptable",
     "output_type": "error",
     "traceback": [
      "\u001b[1;31m---------------------------------------------------------------------------\u001b[0m",
      "\u001b[1;31mTypeError\u001b[0m                                 Traceback (most recent call last)",
      "Cell \u001b[1;32mIn[208], line 3\u001b[0m\n\u001b[0;32m      1\u001b[0m \u001b[38;5;66;03m#Barplot\u001b[39;00m\n\u001b[0;32m      2\u001b[0m plt\u001b[38;5;241m.\u001b[39mstyle\u001b[38;5;241m.\u001b[39muse(\u001b[38;5;124m'\u001b[39m\u001b[38;5;124mbmh\u001b[39m\u001b[38;5;124m'\u001b[39m)\n\u001b[1;32m----> 3\u001b[0m x\u001b[38;5;241m=\u001b[39mAD[\u001b[38;5;124m\"\u001b[39m\u001b[38;5;124mBirths and deaths\u001b[39m\u001b[38;5;124m\"\u001b[39m]\n\u001b[0;32m      4\u001b[0m y\u001b[38;5;241m=\u001b[39mAD[\u001b[38;5;124m'\u001b[39m\u001b[38;5;124mYear\u001b[39m\u001b[38;5;124m'\u001b[39m]\n\u001b[0;32m      5\u001b[0m \u001b[38;5;66;03m#\u001b[39;00m\n",
      "\u001b[1;31mTypeError\u001b[0m: 'Axes' object is not subscriptable"
     ]
    }
   ],
   "source": [
    "#Barplot\n",
    "plt.style.use('bmh')\n",
    "x=AD[\"Births and deaths\"]\n",
    "y=AD['Year']\n",
    "#\n",
    "plt.xlabel(\"Births and deaths\",fontsize=18)\n",
    "plt.ylabel(\"Year\", fontsize=16)\n",
    "plt.tittle(\"Comparative births and deaths in the same years\")\n",
    "plt.bar(x,y)\n",
    "plt.show()\n"
   ]
  },
  {
   "cell_type": "code",
   "execution_count": 209,
   "id": "11a8f72d",
   "metadata": {},
   "outputs": [
    {
     "ename": "InvalidIndexError",
     "evalue": "('Annual births', 36    32.2\n37    31.6\n38    31.0\n39    32.8\n40    31.1\n41    31.4\n42    30.4\n43    32.6\n44    31.2\n45    32.0\n46    31.7\n47    31.2\n48    32.4\n49    32.1\n50    30.2\n51    29.3\n52    28.9\n53    28.6\n54    27.9\n55    27.0\n56    28.4\n57    28.0\n58    28.6\n59    28.4\n60    27.7\n61    28.7\n62    29.8\n63    29.2\n64    29.9\n65    29.8\n66    31.3\n67    32.0\n68    30.9\n69    32.4\n70    34.3\n71    33.6\n72    35.5\nName: Annual deaths, dtype: float64)",
     "output_type": "error",
     "traceback": [
      "\u001b[1;31m---------------------------------------------------------------------------\u001b[0m",
      "\u001b[1;31mTypeError\u001b[0m                                 Traceback (most recent call last)",
      "File \u001b[1;32m~\\anaconda4\\Lib\\site-packages\\pandas\\core\\indexes\\base.py:3802\u001b[0m, in \u001b[0;36mIndex.get_loc\u001b[1;34m(self, key, method, tolerance)\u001b[0m\n\u001b[0;32m   3801\u001b[0m \u001b[38;5;28;01mtry\u001b[39;00m:\n\u001b[1;32m-> 3802\u001b[0m     \u001b[38;5;28;01mreturn\u001b[39;00m \u001b[38;5;28mself\u001b[39m\u001b[38;5;241m.\u001b[39m_engine\u001b[38;5;241m.\u001b[39mget_loc(casted_key)\n\u001b[0;32m   3803\u001b[0m \u001b[38;5;28;01mexcept\u001b[39;00m \u001b[38;5;167;01mKeyError\u001b[39;00m \u001b[38;5;28;01mas\u001b[39;00m err:\n",
      "File \u001b[1;32m~\\anaconda4\\Lib\\site-packages\\pandas\\_libs\\index.pyx:138\u001b[0m, in \u001b[0;36mpandas._libs.index.IndexEngine.get_loc\u001b[1;34m()\u001b[0m\n",
      "File \u001b[1;32m~\\anaconda4\\Lib\\site-packages\\pandas\\_libs\\index.pyx:144\u001b[0m, in \u001b[0;36mpandas._libs.index.IndexEngine.get_loc\u001b[1;34m()\u001b[0m\n",
      "\u001b[1;31mTypeError\u001b[0m: '('Annual births', 36    32.2\n37    31.6\n38    31.0\n39    32.8\n40    31.1\n41    31.4\n42    30.4\n43    32.6\n44    31.2\n45    32.0\n46    31.7\n47    31.2\n48    32.4\n49    32.1\n50    30.2\n51    29.3\n52    28.9\n53    28.6\n54    27.9\n55    27.0\n56    28.4\n57    28.0\n58    28.6\n59    28.4\n60    27.7\n61    28.7\n62    29.8\n63    29.2\n64    29.9\n65    29.8\n66    31.3\n67    32.0\n68    30.9\n69    32.4\n70    34.3\n71    33.6\n72    35.5\nName: Annual deaths, dtype: float64)' is an invalid key",
      "\nDuring handling of the above exception, another exception occurred:\n",
      "\u001b[1;31mInvalidIndexError\u001b[0m                         Traceback (most recent call last)",
      "Cell \u001b[1;32mIn[209], line 1\u001b[0m\n\u001b[1;32m----> 1\u001b[0m AD\u001b[38;5;241m=\u001b[39msns\u001b[38;5;241m.\u001b[39mbarplot(AP[\u001b[38;5;124m'\u001b[39m\u001b[38;5;124mAnnual births\u001b[39m\u001b[38;5;124m'\u001b[39m,AP[\u001b[38;5;124m'\u001b[39m\u001b[38;5;124mAnnual deaths\u001b[39m\u001b[38;5;124m'\u001b[39m]])\n\u001b[0;32m      2\u001b[0m plt\u001b[38;5;241m.\u001b[39mshow()\n",
      "File \u001b[1;32m~\\anaconda4\\Lib\\site-packages\\pandas\\core\\frame.py:3807\u001b[0m, in \u001b[0;36mDataFrame.__getitem__\u001b[1;34m(self, key)\u001b[0m\n\u001b[0;32m   3805\u001b[0m \u001b[38;5;28;01mif\u001b[39;00m \u001b[38;5;28mself\u001b[39m\u001b[38;5;241m.\u001b[39mcolumns\u001b[38;5;241m.\u001b[39mnlevels \u001b[38;5;241m>\u001b[39m \u001b[38;5;241m1\u001b[39m:\n\u001b[0;32m   3806\u001b[0m     \u001b[38;5;28;01mreturn\u001b[39;00m \u001b[38;5;28mself\u001b[39m\u001b[38;5;241m.\u001b[39m_getitem_multilevel(key)\n\u001b[1;32m-> 3807\u001b[0m indexer \u001b[38;5;241m=\u001b[39m \u001b[38;5;28mself\u001b[39m\u001b[38;5;241m.\u001b[39mcolumns\u001b[38;5;241m.\u001b[39mget_loc(key)\n\u001b[0;32m   3808\u001b[0m \u001b[38;5;28;01mif\u001b[39;00m is_integer(indexer):\n\u001b[0;32m   3809\u001b[0m     indexer \u001b[38;5;241m=\u001b[39m [indexer]\n",
      "File \u001b[1;32m~\\anaconda4\\Lib\\site-packages\\pandas\\core\\indexes\\base.py:3809\u001b[0m, in \u001b[0;36mIndex.get_loc\u001b[1;34m(self, key, method, tolerance)\u001b[0m\n\u001b[0;32m   3804\u001b[0m         \u001b[38;5;28;01mraise\u001b[39;00m \u001b[38;5;167;01mKeyError\u001b[39;00m(key) \u001b[38;5;28;01mfrom\u001b[39;00m \u001b[38;5;21;01merr\u001b[39;00m\n\u001b[0;32m   3805\u001b[0m     \u001b[38;5;28;01mexcept\u001b[39;00m \u001b[38;5;167;01mTypeError\u001b[39;00m:\n\u001b[0;32m   3806\u001b[0m         \u001b[38;5;66;03m# If we have a listlike key, _check_indexing_error will raise\u001b[39;00m\n\u001b[0;32m   3807\u001b[0m         \u001b[38;5;66;03m#  InvalidIndexError. Otherwise we fall through and re-raise\u001b[39;00m\n\u001b[0;32m   3808\u001b[0m         \u001b[38;5;66;03m#  the TypeError.\u001b[39;00m\n\u001b[1;32m-> 3809\u001b[0m         \u001b[38;5;28mself\u001b[39m\u001b[38;5;241m.\u001b[39m_check_indexing_error(key)\n\u001b[0;32m   3810\u001b[0m         \u001b[38;5;28;01mraise\u001b[39;00m\n\u001b[0;32m   3812\u001b[0m \u001b[38;5;66;03m# GH#42269\u001b[39;00m\n",
      "File \u001b[1;32m~\\anaconda4\\Lib\\site-packages\\pandas\\core\\indexes\\base.py:5925\u001b[0m, in \u001b[0;36mIndex._check_indexing_error\u001b[1;34m(self, key)\u001b[0m\n\u001b[0;32m   5921\u001b[0m \u001b[38;5;28;01mdef\u001b[39;00m \u001b[38;5;21m_check_indexing_error\u001b[39m(\u001b[38;5;28mself\u001b[39m, key):\n\u001b[0;32m   5922\u001b[0m     \u001b[38;5;28;01mif\u001b[39;00m \u001b[38;5;129;01mnot\u001b[39;00m is_scalar(key):\n\u001b[0;32m   5923\u001b[0m         \u001b[38;5;66;03m# if key is not a scalar, directly raise an error (the code below\u001b[39;00m\n\u001b[0;32m   5924\u001b[0m         \u001b[38;5;66;03m# would convert to numpy arrays and raise later any way) - GH29926\u001b[39;00m\n\u001b[1;32m-> 5925\u001b[0m         \u001b[38;5;28;01mraise\u001b[39;00m InvalidIndexError(key)\n",
      "\u001b[1;31mInvalidIndexError\u001b[0m: ('Annual births', 36    32.2\n37    31.6\n38    31.0\n39    32.8\n40    31.1\n41    31.4\n42    30.4\n43    32.6\n44    31.2\n45    32.0\n46    31.7\n47    31.2\n48    32.4\n49    32.1\n50    30.2\n51    29.3\n52    28.9\n53    28.6\n54    27.9\n55    27.0\n56    28.4\n57    28.0\n58    28.6\n59    28.4\n60    27.7\n61    28.7\n62    29.8\n63    29.2\n64    29.9\n65    29.8\n66    31.3\n67    32.0\n68    30.9\n69    32.4\n70    34.3\n71    33.6\n72    35.5\nName: Annual deaths, dtype: float64)"
     ]
    }
   ],
   "source": [
    "\n",
    "AD=sns.barplot(AP['Annual births',AP['Annual deaths']])\n",
    "plt.show()"
   ]
  },
  {
   "cell_type": "code",
   "execution_count": 210,
   "id": "24c98c1c",
   "metadata": {},
   "outputs": [
    {
     "ename": "SyntaxError",
     "evalue": "invalid syntax (2041980316.py, line 1)",
     "output_type": "error",
     "traceback": [
      "\u001b[1;36m  Cell \u001b[1;32mIn[210], line 1\u001b[1;36m\u001b[0m\n\u001b[1;33m    w=\u001b[0m\n\u001b[1;37m      ^\u001b[0m\n\u001b[1;31mSyntaxError\u001b[0m\u001b[1;31m:\u001b[0m invalid syntax\n"
     ]
    }
   ],
   "source": [
    "w=\n",
    "plt.bar(x, Annual deaths,w, label=\"Annual deaths\")\n",
    "plt.bar(x, Annual births, w,bottom=Annual deaths, label=\"Annual births\" )\n",
    "\n",
    "plt.xlabel(\"Births and deaths\")\n",
    "plt.ylabel(\"Year\")\n",
    "plt.tittle(\"Comparative births and deaths in the same years\")\n",
    "plt.legend()\n",
    "plt.show()"
   ]
  },
  {
   "cell_type": "code",
   "execution_count": 211,
   "id": "95977a81",
   "metadata": {},
   "outputs": [],
   "source": [
    "# First graph. Bar chart"
   ]
  },
  {
   "cell_type": "code",
   "execution_count": null,
   "id": "0ce7bf87",
   "metadata": {},
   "outputs": [],
   "source": []
  },
  {
   "cell_type": "code",
   "execution_count": 212,
   "id": "f16467ae",
   "metadata": {},
   "outputs": [
    {
     "data": {
      "text/plain": [
       "<Axes: xlabel='Annual deaths'>"
      ]
     },
     "execution_count": 212,
     "metadata": {},
     "output_type": "execute_result"
    },
    {
     "data": {
      "image/png": "[encoded data removed]",
      "text/plain": [
       "<Figure size 640x480 with 1 Axes>"
      ]
     },
     "metadata": {},
     "output_type": "display_data"
    }
   ],
   "source": [
    "sns.boxplot(x=AP[\"Annual deaths\"])"
   ]
  },
  {
   "cell_type": "code",
   "execution_count": null,
   "id": "c42b20db",
   "metadata": {},
   "outputs": [],
   "source": []
  },
  {
   "cell_type": "code",
   "execution_count": 213,
   "id": "2da7c602",
   "metadata": {},
   "outputs": [
    {
     "data": {
      "text/plain": [
       "(array([1., 3., 4., 3., 3., 2., 2., 6., 4., 5., 1., 1., 1., 0., 1.]),\n",
       " array([27.        , 27.56666667, 28.13333333, 28.7       , 29.26666667,\n",
       "        29.83333333, 30.4       , 30.96666667, 31.53333333, 32.1       ,\n",
       "        32.66666667, 33.23333333, 33.8       , 34.36666667, 34.93333333,\n",
       "        35.5       ]),\n",
       " <BarContainer object of 15 artists>)"
      ]
     },
     "execution_count": 213,
     "metadata": {},
     "output_type": "execute_result"
    },
    {
     "data": {
      "image/png": "[encoded data removed]",
      "text/plain": [
       "<Figure size 640x480 with 1 Axes>"
      ]
     },
     "metadata": {},
     "output_type": "display_data"
    }
   ],
   "source": [
    "plt.hist(AP[\"Annual deaths\"],15, color=\"green\", ec=\"black\")"
   ]
  },
  {
   "cell_type": "code",
   "execution_count": 214,
   "id": "0234058a",
   "metadata": {},
   "outputs": [
    {
     "name": "stdout",
     "output_type": "stream",
     "text": [
      "<class 'pandas.core.frame.DataFrame'>\n",
      "RangeIndex: 73 entries, 0 to 72\n",
      "Data columns (total 11 columns):\n",
      " #   Column             Non-Null Count  Dtype  \n",
      "---  ------             --------------  -----  \n",
      " 0   STATISTIC          73 non-null     object \n",
      " 1   Year               73 non-null     int64  \n",
      " 2   UNIT               73 non-null     object \n",
      " 3   Annual births      37 non-null     float64\n",
      " 4   Annual deaths      37 non-null     float64\n",
      " 5   Natural increase   73 non-null     float64\n",
      " 6   Immigrants         37 non-null     float64\n",
      " 7   Emigrants          37 non-null     float64\n",
      " 8   Net migration      73 non-null     float64\n",
      " 9   Population change  73 non-null     float64\n",
      " 10  Population         73 non-null     float64\n",
      "dtypes: float64(8), int64(1), object(2)\n",
      "memory usage: 6.4+ KB\n"
     ]
    }
   ],
   "source": [
    "# Original graph, extra columns are eliminated and only the totals are left.\n",
    "AP_1\n",
    "AP_1.info()"
   ]
  },
  {
   "cell_type": "code",
   "execution_count": 215,
   "id": "0b7f3189",
   "metadata": {},
   "outputs": [
    {
     "data": {
      "text/html": [
       "<div>\n",
       "<style scoped>\n",
       "    .dataframe tbody tr th:only-of-type {\n",
       "        vertical-align: middle;\n",
       "    }\n",
       "\n",
       "    .dataframe tbody tr th {\n",
       "        vertical-align: top;\n",
       "    }\n",
       "\n",
       "    .dataframe thead th {\n",
       "        text-align: right;\n",
       "    }\n",
       "</style>\n",
       "<table border=\"1\" class=\"dataframe\">\n",
       "  <thead>\n",
       "    <tr style=\"text-align: right;\">\n",
       "      <th></th>\n",
       "      <th>Year</th>\n",
       "      <th>Natural increase</th>\n",
       "      <th>Net migration</th>\n",
       "      <th>Population change</th>\n",
       "      <th>Population</th>\n",
       "    </tr>\n",
       "  </thead>\n",
       "  <tbody>\n",
       "    <tr>\n",
       "      <th>0</th>\n",
       "      <td>1951</td>\n",
       "      <td>26.6</td>\n",
       "      <td>-35.0</td>\n",
       "      <td>-8.4</td>\n",
       "      <td>2960.6</td>\n",
       "    </tr>\n",
       "    <tr>\n",
       "      <th>1</th>\n",
       "      <td>1952</td>\n",
       "      <td>27.3</td>\n",
       "      <td>-35.0</td>\n",
       "      <td>-7.7</td>\n",
       "      <td>2952.9</td>\n",
       "    </tr>\n",
       "    <tr>\n",
       "      <th>2</th>\n",
       "      <td>1953</td>\n",
       "      <td>29.1</td>\n",
       "      <td>-33.0</td>\n",
       "      <td>-3.9</td>\n",
       "      <td>2949.0</td>\n",
       "    </tr>\n",
       "    <tr>\n",
       "      <th>3</th>\n",
       "      <td>1954</td>\n",
       "      <td>28.2</td>\n",
       "      <td>-36.0</td>\n",
       "      <td>-7.8</td>\n",
       "      <td>2941.2</td>\n",
       "    </tr>\n",
       "    <tr>\n",
       "      <th>4</th>\n",
       "      <td>1955</td>\n",
       "      <td>24.7</td>\n",
       "      <td>-45.0</td>\n",
       "      <td>-20.3</td>\n",
       "      <td>2920.9</td>\n",
       "    </tr>\n",
       "  </tbody>\n",
       "</table>\n",
       "</div>"
      ],
      "text/plain": [
       "   Year  Natural increase  Net migration  Population change  Population\n",
       "0  1951              26.6          -35.0               -8.4      2960.6\n",
       "1  1952              27.3          -35.0               -7.7      2952.9\n",
       "2  1953              29.1          -33.0               -3.9      2949.0\n",
       "3  1954              28.2          -36.0               -7.8      2941.2\n",
       "4  1955              24.7          -45.0              -20.3      2920.9"
      ]
     },
     "execution_count": 215,
     "metadata": {},
     "output_type": "execute_result"
    }
   ],
   "source": [
    "AP_1 = AP_1.drop([\"STATISTIC\", \"UNIT\",\"Annual births\" , \"Annual deaths\", \"Immigrants\", \"Emigrants\"], axis=1)\n",
    "AP_1.head()"
   ]
  },
  {
   "cell_type": "code",
   "execution_count": 216,
   "id": "d46c0127",
   "metadata": {},
   "outputs": [
    {
     "name": "stdout",
     "output_type": "stream",
     "text": [
      "<class 'pandas.core.frame.DataFrame'>\n",
      "RangeIndex: 73 entries, 0 to 72\n",
      "Data columns (total 5 columns):\n",
      " #   Column             Non-Null Count  Dtype  \n",
      "---  ------             --------------  -----  \n",
      " 0   Year               73 non-null     int64  \n",
      " 1   Natural increase   73 non-null     float64\n",
      " 2   Net migration      73 non-null     float64\n",
      " 3   Population change  73 non-null     float64\n",
      " 4   Population         73 non-null     float64\n",
      "dtypes: float64(4), int64(1)\n",
      "memory usage: 3.0 KB\n"
     ]
    }
   ],
   "source": [
    "AP_1.info()"
   ]
  },
  {
   "cell_type": "code",
   "execution_count": 612,
   "id": "f15f47a3",
   "metadata": {},
   "outputs": [
    {
     "ename": "NameError",
     "evalue": "name 'plot' is not defined",
     "output_type": "error",
     "traceback": [
      "\u001b[1;31m---------------------------------------------------------------------------\u001b[0m",
      "\u001b[1;31mNameError\u001b[0m                                 Traceback (most recent call last)",
      "Cell \u001b[1;32mIn[612], line 4\u001b[0m\n\u001b[0;32m      2\u001b[0m AD \u001b[38;5;241m=\u001b[39m sns\u001b[38;5;241m.\u001b[39mbarplot(x\u001b[38;5;241m=\u001b[39m\u001b[38;5;124m'\u001b[39m\u001b[38;5;124mYear\u001b[39m\u001b[38;5;124m'\u001b[39m, y\u001b[38;5;241m=\u001b[39m\u001b[38;5;124m'\u001b[39m\u001b[38;5;124mPopulation change\u001b[39m\u001b[38;5;124m'\u001b[39m, data\u001b[38;5;241m=\u001b[39mAP_1)\n\u001b[0;32m      3\u001b[0m AD\u001b[38;5;241m.\u001b[39mset_xticklabels(AD\u001b[38;5;241m.\u001b[39mget_xticklabels(), rotation\u001b[38;5;241m=\u001b[39m\u001b[38;5;241m100\u001b[39m)\n\u001b[1;32m----> 4\u001b[0m plot\u001b[38;5;241m.\u001b[39mshow()\n",
      "\u001b[1;31mNameError\u001b[0m: name 'plot' is not defined"
     ]
    },
    {
     "data": {
      "image/png": "[encoded data removed]",
      "text/plain": [
       "<Figure size 640x480 with 1 Axes>"
      ]
     },
     "metadata": {},
     "output_type": "display_data"
    }
   ],
   "source": [
    "#Population change\n",
    "AD = sns.barplot(x='Year', y='Population change', data=AP_1)\n",
    "AD.set_xticklabels(AD.get_xticklabels(), rotation=100)\n",
    "plot.show()"
   ]
  },
  {
   "cell_type": "markdown",
   "id": "3c9bb01f",
   "metadata": {},
   "source": [
    "# Net migration\n",
    "AD = sns.barplot(x='Year', y='Net migration', data=AP_1)\n",
    "AD.set_xticklabels(AD.get_xticklabels(), rotation=1500)\n",
    "plot.show()"
   ]
  },
  {
   "cell_type": "markdown",
   "id": "9c28b3db",
   "metadata": {},
   "source": [
    "# # Non-Irish citizens usually resident and present in the State by country of citizenship 2022"
   ]
  },
  {
   "cell_type": "code",
   "execution_count": 3,
   "id": "eddd0b56",
   "metadata": {},
   "outputs": [
    {
     "data": {
      "text/html": [
       "<div>\n",
       "<style scoped>\n",
       "    .dataframe tbody tr th:only-of-type {\n",
       "        vertical-align: middle;\n",
       "    }\n",
       "\n",
       "    .dataframe tbody tr th {\n",
       "        vertical-align: top;\n",
       "    }\n",
       "\n",
       "    .dataframe thead th {\n",
       "        text-align: right;\n",
       "    }\n",
       "</style>\n",
       "<table border=\"1\" class=\"dataframe\">\n",
       "  <thead>\n",
       "    <tr style=\"text-align: right;\">\n",
       "      <th></th>\n",
       "      <th>Statistic</th>\n",
       "      <th>Census Year</th>\n",
       "      <th>Sex</th>\n",
       "      <th>UNIT</th>\n",
       "      <th>All citizenships</th>\n",
       "      <th>Austria</th>\n",
       "      <th>Belgium</th>\n",
       "      <th>Bulgaria</th>\n",
       "      <th>Croatia</th>\n",
       "      <th>Cyprus</th>\n",
       "      <th>...</th>\n",
       "      <th>Suriname</th>\n",
       "      <th>Central African Republic</th>\n",
       "      <th>Gabon</th>\n",
       "      <th>Equatorial Guinea</th>\n",
       "      <th>Papua New Guinea</th>\n",
       "      <th>Democratic Rep of Congo</th>\n",
       "      <th>Timor-Leste</th>\n",
       "      <th>Myanmar</th>\n",
       "      <th>Korea (the Democratic People's Republic of) North Korea</th>\n",
       "      <th>Rest of the World (1)</th>\n",
       "    </tr>\n",
       "  </thead>\n",
       "  <tbody>\n",
       "    <tr>\n",
       "      <th>0</th>\n",
       "      <td>Non-Irish citizens usually resident and presen...</td>\n",
       "      <td>2022</td>\n",
       "      <td>Both sexes</td>\n",
       "      <td>Number</td>\n",
       "      <td>631785</td>\n",
       "      <td>1079</td>\n",
       "      <td>1581</td>\n",
       "      <td>3994</td>\n",
       "      <td>13649</td>\n",
       "      <td>207</td>\n",
       "      <td>...</td>\n",
       "      <td>1</td>\n",
       "      <td>7</td>\n",
       "      <td>2</td>\n",
       "      <td>7</td>\n",
       "      <td>4</td>\n",
       "      <td>954</td>\n",
       "      <td>55</td>\n",
       "      <td>58</td>\n",
       "      <td>8</td>\n",
       "      <td>17844</td>\n",
       "    </tr>\n",
       "    <tr>\n",
       "      <th>1</th>\n",
       "      <td>Non-Irish citizens usually resident and presen...</td>\n",
       "      <td>2022</td>\n",
       "      <td>Male</td>\n",
       "      <td>Number</td>\n",
       "      <td>314707</td>\n",
       "      <td>458</td>\n",
       "      <td>845</td>\n",
       "      <td>2012</td>\n",
       "      <td>7479</td>\n",
       "      <td>110</td>\n",
       "      <td>...</td>\n",
       "      <td>0</td>\n",
       "      <td>4</td>\n",
       "      <td>0</td>\n",
       "      <td>5</td>\n",
       "      <td>2</td>\n",
       "      <td>494</td>\n",
       "      <td>52</td>\n",
       "      <td>33</td>\n",
       "      <td>2</td>\n",
       "      <td>8903</td>\n",
       "    </tr>\n",
       "    <tr>\n",
       "      <th>2</th>\n",
       "      <td>Non-Irish citizens usually resident and presen...</td>\n",
       "      <td>2022</td>\n",
       "      <td>Female</td>\n",
       "      <td>Number</td>\n",
       "      <td>317078</td>\n",
       "      <td>621</td>\n",
       "      <td>736</td>\n",
       "      <td>1982</td>\n",
       "      <td>6170</td>\n",
       "      <td>97</td>\n",
       "      <td>...</td>\n",
       "      <td>1</td>\n",
       "      <td>3</td>\n",
       "      <td>2</td>\n",
       "      <td>2</td>\n",
       "      <td>2</td>\n",
       "      <td>460</td>\n",
       "      <td>3</td>\n",
       "      <td>25</td>\n",
       "      <td>6</td>\n",
       "      <td>8941</td>\n",
       "    </tr>\n",
       "  </tbody>\n",
       "</table>\n",
       "<p>3 rows × 183 columns</p>\n",
       "</div>"
      ],
      "text/plain": [
       "                                           Statistic  Census Year         Sex  \\\n",
       "0  Non-Irish citizens usually resident and presen...         2022  Both sexes   \n",
       "1  Non-Irish citizens usually resident and presen...         2022        Male   \n",
       "2  Non-Irish citizens usually resident and presen...         2022      Female   \n",
       "\n",
       "     UNIT  All citizenships  Austria  Belgium  Bulgaria  Croatia  Cyprus  ...  \\\n",
       "0  Number            631785     1079     1581      3994    13649     207  ...   \n",
       "1  Number            314707      458      845      2012     7479     110  ...   \n",
       "2  Number            317078      621      736      1982     6170      97  ...   \n",
       "\n",
       "   Suriname  Central African Republic  Gabon  Equatorial Guinea  \\\n",
       "0         1                         7      2                  7   \n",
       "1         0                         4      0                  5   \n",
       "2         1                         3      2                  2   \n",
       "\n",
       "   Papua New Guinea  Democratic Rep of Congo  Timor-Leste  Myanmar  \\\n",
       "0                 4                      954           55       58   \n",
       "1                 2                      494           52       33   \n",
       "2                 2                      460            3       25   \n",
       "\n",
       "   Korea (the Democratic People's Republic of) North Korea  \\\n",
       "0                                                  8         \n",
       "1                                                  2         \n",
       "2                                                  6         \n",
       "\n",
       "   Rest of the World (1)  \n",
       "0                  17844  \n",
       "1                   8903  \n",
       "2                   8941  \n",
       "\n",
       "[3 rows x 183 columns]"
      ]
     },
     "execution_count": 3,
     "metadata": {},
     "output_type": "execute_result"
    }
   ],
   "source": [
    "NIC"
   ]
  },
  {
   "cell_type": "code",
   "execution_count": 4,
   "id": "03193d32",
   "metadata": {},
   "outputs": [
    {
     "name": "stdout",
     "output_type": "stream",
     "text": [
      "<class 'pandas.core.frame.DataFrame'>\n",
      "RangeIndex: 3 entries, 0 to 2\n",
      "Columns: 183 entries, Statistic to Rest of the World (1)\n",
      "dtypes: int64(180), object(3)\n",
      "memory usage: 4.4+ KB\n"
     ]
    }
   ],
   "source": [
    "NIC.info()"
   ]
  },
  {
   "cell_type": "code",
   "execution_count": 5,
   "id": "3f5927c7",
   "metadata": {},
   "outputs": [
    {
     "data": {
      "text/html": [
       "<div>\n",
       "<style scoped>\n",
       "    .dataframe tbody tr th:only-of-type {\n",
       "        vertical-align: middle;\n",
       "    }\n",
       "\n",
       "    .dataframe tbody tr th {\n",
       "        vertical-align: top;\n",
       "    }\n",
       "\n",
       "    .dataframe thead th {\n",
       "        text-align: right;\n",
       "    }\n",
       "</style>\n",
       "<table border=\"1\" class=\"dataframe\">\n",
       "  <thead>\n",
       "    <tr style=\"text-align: right;\">\n",
       "      <th></th>\n",
       "      <th>Sex</th>\n",
       "      <th>Austria</th>\n",
       "      <th>Belgium</th>\n",
       "      <th>Bulgaria</th>\n",
       "      <th>Croatia</th>\n",
       "      <th>Cyprus</th>\n",
       "      <th>Czechia</th>\n",
       "      <th>Denmark</th>\n",
       "      <th>Estonia</th>\n",
       "      <th>Finland</th>\n",
       "      <th>...</th>\n",
       "      <th>Suriname</th>\n",
       "      <th>Central African Republic</th>\n",
       "      <th>Gabon</th>\n",
       "      <th>Equatorial Guinea</th>\n",
       "      <th>Papua New Guinea</th>\n",
       "      <th>Democratic Rep of Congo</th>\n",
       "      <th>Timor-Leste</th>\n",
       "      <th>Myanmar</th>\n",
       "      <th>Korea (the Democratic People's Republic of) North Korea</th>\n",
       "      <th>Rest of the World (1)</th>\n",
       "    </tr>\n",
       "  </thead>\n",
       "  <tbody>\n",
       "    <tr>\n",
       "      <th>0</th>\n",
       "      <td>Both sexes</td>\n",
       "      <td>1079</td>\n",
       "      <td>1581</td>\n",
       "      <td>3994</td>\n",
       "      <td>13649</td>\n",
       "      <td>207</td>\n",
       "      <td>4530</td>\n",
       "      <td>935</td>\n",
       "      <td>1892</td>\n",
       "      <td>1061</td>\n",
       "      <td>...</td>\n",
       "      <td>1</td>\n",
       "      <td>7</td>\n",
       "      <td>2</td>\n",
       "      <td>7</td>\n",
       "      <td>4</td>\n",
       "      <td>954</td>\n",
       "      <td>55</td>\n",
       "      <td>58</td>\n",
       "      <td>8</td>\n",
       "      <td>17844</td>\n",
       "    </tr>\n",
       "    <tr>\n",
       "      <th>1</th>\n",
       "      <td>Male</td>\n",
       "      <td>458</td>\n",
       "      <td>845</td>\n",
       "      <td>2012</td>\n",
       "      <td>7479</td>\n",
       "      <td>110</td>\n",
       "      <td>2226</td>\n",
       "      <td>497</td>\n",
       "      <td>741</td>\n",
       "      <td>339</td>\n",
       "      <td>...</td>\n",
       "      <td>0</td>\n",
       "      <td>4</td>\n",
       "      <td>0</td>\n",
       "      <td>5</td>\n",
       "      <td>2</td>\n",
       "      <td>494</td>\n",
       "      <td>52</td>\n",
       "      <td>33</td>\n",
       "      <td>2</td>\n",
       "      <td>8903</td>\n",
       "    </tr>\n",
       "    <tr>\n",
       "      <th>2</th>\n",
       "      <td>Female</td>\n",
       "      <td>621</td>\n",
       "      <td>736</td>\n",
       "      <td>1982</td>\n",
       "      <td>6170</td>\n",
       "      <td>97</td>\n",
       "      <td>2304</td>\n",
       "      <td>438</td>\n",
       "      <td>1151</td>\n",
       "      <td>722</td>\n",
       "      <td>...</td>\n",
       "      <td>1</td>\n",
       "      <td>3</td>\n",
       "      <td>2</td>\n",
       "      <td>2</td>\n",
       "      <td>2</td>\n",
       "      <td>460</td>\n",
       "      <td>3</td>\n",
       "      <td>25</td>\n",
       "      <td>6</td>\n",
       "      <td>8941</td>\n",
       "    </tr>\n",
       "  </tbody>\n",
       "</table>\n",
       "<p>3 rows × 179 columns</p>\n",
       "</div>"
      ],
      "text/plain": [
       "          Sex  Austria  Belgium  Bulgaria  Croatia  Cyprus  Czechia  Denmark  \\\n",
       "0  Both sexes     1079     1581      3994    13649     207     4530      935   \n",
       "1        Male      458      845      2012     7479     110     2226      497   \n",
       "2      Female      621      736      1982     6170      97     2304      438   \n",
       "\n",
       "   Estonia  Finland  ...  Suriname  Central African Republic  Gabon  \\\n",
       "0     1892     1061  ...         1                         7      2   \n",
       "1      741      339  ...         0                         4      0   \n",
       "2     1151      722  ...         1                         3      2   \n",
       "\n",
       "   Equatorial Guinea  Papua New Guinea  Democratic Rep of Congo  Timor-Leste  \\\n",
       "0                  7                 4                      954           55   \n",
       "1                  5                 2                      494           52   \n",
       "2                  2                 2                      460            3   \n",
       "\n",
       "   Myanmar  Korea (the Democratic People's Republic of) North Korea  \\\n",
       "0       58                                                  8         \n",
       "1       33                                                  2         \n",
       "2       25                                                  6         \n",
       "\n",
       "   Rest of the World (1)  \n",
       "0                  17844  \n",
       "1                   8903  \n",
       "2                   8941  \n",
       "\n",
       "[3 rows x 179 columns]"
      ]
     },
     "execution_count": 5,
     "metadata": {},
     "output_type": "execute_result"
    }
   ],
   "source": [
    "NIC= NIC.drop(columns=['Statistic','Census Year','UNIT','All citizenships'])\n",
    "NIC.head()"
   ]
  },
  {
   "cell_type": "code",
   "execution_count": 6,
   "id": "b35f20ff",
   "metadata": {},
   "outputs": [],
   "source": [
    "NIC=NIC.rename (columns= {'United Kingdom of Great Britain and Northern Ireland (the)':'UK','United States of America (the)':'USA','Netherlands (the)':'Netherlands'})"
   ]
  },
  {
   "cell_type": "code",
   "execution_count": 7,
   "id": "acd984a0",
   "metadata": {},
   "outputs": [
    {
     "data": {
      "text/plain": [
       "(3, 179)"
      ]
     },
     "execution_count": 7,
     "metadata": {},
     "output_type": "execute_result"
    }
   ],
   "source": [
    "NIC.shape"
   ]
  },
  {
   "cell_type": "code",
   "execution_count": 8,
   "id": "15a5ac38",
   "metadata": {},
   "outputs": [
    {
     "name": "stdout",
     "output_type": "stream",
     "text": [
      "<class 'pandas.core.frame.DataFrame'>\n",
      "RangeIndex: 3 entries, 0 to 2\n",
      "Columns: 179 entries, Sex to Rest of the World (1)\n",
      "dtypes: int64(178), object(1)\n",
      "memory usage: 4.3+ KB\n"
     ]
    }
   ],
   "source": [
    "NIC.info()"
   ]
  },
  {
   "cell_type": "code",
   "execution_count": 9,
   "id": "3c2a3dcf",
   "metadata": {},
   "outputs": [],
   "source": [
    "NIC_1=NIC.copy()"
   ]
  },
  {
   "cell_type": "code",
   "execution_count": 10,
   "id": "efd256e3",
   "metadata": {},
   "outputs": [
    {
     "data": {
      "text/html": [
       "<div>\n",
       "<style scoped>\n",
       "    .dataframe tbody tr th:only-of-type {\n",
       "        vertical-align: middle;\n",
       "    }\n",
       "\n",
       "    .dataframe tbody tr th {\n",
       "        vertical-align: top;\n",
       "    }\n",
       "\n",
       "    .dataframe thead th {\n",
       "        text-align: right;\n",
       "    }\n",
       "</style>\n",
       "<table border=\"1\" class=\"dataframe\">\n",
       "  <thead>\n",
       "    <tr style=\"text-align: right;\">\n",
       "      <th></th>\n",
       "      <th>Sex</th>\n",
       "      <th>Austria</th>\n",
       "      <th>Belgium</th>\n",
       "      <th>Bulgaria</th>\n",
       "      <th>Croatia</th>\n",
       "      <th>Cyprus</th>\n",
       "      <th>Czechia</th>\n",
       "      <th>Denmark</th>\n",
       "      <th>Estonia</th>\n",
       "      <th>Finland</th>\n",
       "      <th>...</th>\n",
       "      <th>Suriname</th>\n",
       "      <th>Central African Republic</th>\n",
       "      <th>Gabon</th>\n",
       "      <th>Equatorial Guinea</th>\n",
       "      <th>Papua New Guinea</th>\n",
       "      <th>Democratic Rep of Congo</th>\n",
       "      <th>Timor-Leste</th>\n",
       "      <th>Myanmar</th>\n",
       "      <th>Korea (the Democratic People's Republic of) North Korea</th>\n",
       "      <th>Rest of the World (1)</th>\n",
       "    </tr>\n",
       "  </thead>\n",
       "  <tbody>\n",
       "    <tr>\n",
       "      <th>0</th>\n",
       "      <td>Both sexes</td>\n",
       "      <td>1079</td>\n",
       "      <td>1581</td>\n",
       "      <td>3994</td>\n",
       "      <td>13649</td>\n",
       "      <td>207</td>\n",
       "      <td>4530</td>\n",
       "      <td>935</td>\n",
       "      <td>1892</td>\n",
       "      <td>1061</td>\n",
       "      <td>...</td>\n",
       "      <td>1</td>\n",
       "      <td>7</td>\n",
       "      <td>2</td>\n",
       "      <td>7</td>\n",
       "      <td>4</td>\n",
       "      <td>954</td>\n",
       "      <td>55</td>\n",
       "      <td>58</td>\n",
       "      <td>8</td>\n",
       "      <td>17844</td>\n",
       "    </tr>\n",
       "  </tbody>\n",
       "</table>\n",
       "<p>1 rows × 179 columns</p>\n",
       "</div>"
      ],
      "text/plain": [
       "          Sex  Austria  Belgium  Bulgaria  Croatia  Cyprus  Czechia  Denmark  \\\n",
       "0  Both sexes     1079     1581      3994    13649     207     4530      935   \n",
       "\n",
       "   Estonia  Finland  ...  Suriname  Central African Republic  Gabon  \\\n",
       "0     1892     1061  ...         1                         7      2   \n",
       "\n",
       "   Equatorial Guinea  Papua New Guinea  Democratic Rep of Congo  Timor-Leste  \\\n",
       "0                  7                 4                      954           55   \n",
       "\n",
       "   Myanmar  Korea (the Democratic People's Republic of) North Korea  \\\n",
       "0       58                                                  8         \n",
       "\n",
       "   Rest of the World (1)  \n",
       "0                  17844  \n",
       "\n",
       "[1 rows x 179 columns]"
      ]
     },
     "execution_count": 10,
     "metadata": {},
     "output_type": "execute_result"
    }
   ],
   "source": [
    "NIC = NIC.drop(NIC.index[[1,2]],\n",
    "               axis=0)\n",
    "NIC.head()"
   ]
  },
  {
   "cell_type": "code",
   "execution_count": 11,
   "id": "3bac8a0f",
   "metadata": {},
   "outputs": [
    {
     "data": {
      "text/html": [
       "<div>\n",
       "<style scoped>\n",
       "    .dataframe tbody tr th:only-of-type {\n",
       "        vertical-align: middle;\n",
       "    }\n",
       "\n",
       "    .dataframe tbody tr th {\n",
       "        vertical-align: top;\n",
       "    }\n",
       "\n",
       "    .dataframe thead th {\n",
       "        text-align: right;\n",
       "    }\n",
       "</style>\n",
       "<table border=\"1\" class=\"dataframe\">\n",
       "  <thead>\n",
       "    <tr style=\"text-align: right;\">\n",
       "      <th></th>\n",
       "      <th>city</th>\n",
       "      <th>Number of migrants</th>\n",
       "    </tr>\n",
       "  </thead>\n",
       "  <tbody>\n",
       "    <tr>\n",
       "      <th>0</th>\n",
       "      <td>Sex</td>\n",
       "      <td>Both sexes</td>\n",
       "    </tr>\n",
       "    <tr>\n",
       "      <th>1</th>\n",
       "      <td>Austria</td>\n",
       "      <td>1079</td>\n",
       "    </tr>\n",
       "    <tr>\n",
       "      <th>2</th>\n",
       "      <td>Belgium</td>\n",
       "      <td>1581</td>\n",
       "    </tr>\n",
       "    <tr>\n",
       "      <th>3</th>\n",
       "      <td>Bulgaria</td>\n",
       "      <td>3994</td>\n",
       "    </tr>\n",
       "    <tr>\n",
       "      <th>4</th>\n",
       "      <td>Croatia</td>\n",
       "      <td>13649</td>\n",
       "    </tr>\n",
       "    <tr>\n",
       "      <th>...</th>\n",
       "      <td>...</td>\n",
       "      <td>...</td>\n",
       "    </tr>\n",
       "    <tr>\n",
       "      <th>174</th>\n",
       "      <td>Democratic Rep of Congo</td>\n",
       "      <td>954</td>\n",
       "    </tr>\n",
       "    <tr>\n",
       "      <th>175</th>\n",
       "      <td>Timor-Leste</td>\n",
       "      <td>55</td>\n",
       "    </tr>\n",
       "    <tr>\n",
       "      <th>176</th>\n",
       "      <td>Myanmar</td>\n",
       "      <td>58</td>\n",
       "    </tr>\n",
       "    <tr>\n",
       "      <th>177</th>\n",
       "      <td>Korea (the Democratic People's Republic of) No...</td>\n",
       "      <td>8</td>\n",
       "    </tr>\n",
       "    <tr>\n",
       "      <th>178</th>\n",
       "      <td>Rest of the World (1)</td>\n",
       "      <td>17844</td>\n",
       "    </tr>\n",
       "  </tbody>\n",
       "</table>\n",
       "<p>179 rows × 2 columns</p>\n",
       "</div>"
      ],
      "text/plain": [
       "                                                  city Number of migrants\n",
       "0                                                  Sex         Both sexes\n",
       "1                                              Austria               1079\n",
       "2                                              Belgium               1581\n",
       "3                                             Bulgaria               3994\n",
       "4                                              Croatia              13649\n",
       "..                                                 ...                ...\n",
       "174                            Democratic Rep of Congo                954\n",
       "175                                        Timor-Leste                 55\n",
       "176                                            Myanmar                 58\n",
       "177  Korea (the Democratic People's Republic of) No...                  8\n",
       "178                              Rest of the World (1)              17844\n",
       "\n",
       "[179 rows x 2 columns]"
      ]
     },
     "execution_count": 11,
     "metadata": {},
     "output_type": "execute_result"
    }
   ],
   "source": [
    "NIC_3=NIC.melt(var_name=\"city\",value_name=\"Number of migrants\")\n",
    "NIC_3"
   ]
  },
  {
   "cell_type": "code",
   "execution_count": 12,
   "id": "50ccd5eb",
   "metadata": {
    "scrolled": true
   },
   "outputs": [
    {
     "data": {
      "text/html": [
       "<div>\n",
       "<style scoped>\n",
       "    .dataframe tbody tr th:only-of-type {\n",
       "        vertical-align: middle;\n",
       "    }\n",
       "\n",
       "    .dataframe tbody tr th {\n",
       "        vertical-align: top;\n",
       "    }\n",
       "\n",
       "    .dataframe thead th {\n",
       "        text-align: right;\n",
       "    }\n",
       "</style>\n",
       "<table border=\"1\" class=\"dataframe\">\n",
       "  <thead>\n",
       "    <tr style=\"text-align: right;\">\n",
       "      <th></th>\n",
       "      <th>city</th>\n",
       "      <th>Number of migrants</th>\n",
       "    </tr>\n",
       "  </thead>\n",
       "  <tbody>\n",
       "    <tr>\n",
       "      <th>1</th>\n",
       "      <td>Austria</td>\n",
       "      <td>1079</td>\n",
       "    </tr>\n",
       "    <tr>\n",
       "      <th>2</th>\n",
       "      <td>Belgium</td>\n",
       "      <td>1581</td>\n",
       "    </tr>\n",
       "    <tr>\n",
       "      <th>3</th>\n",
       "      <td>Bulgaria</td>\n",
       "      <td>3994</td>\n",
       "    </tr>\n",
       "    <tr>\n",
       "      <th>4</th>\n",
       "      <td>Croatia</td>\n",
       "      <td>13649</td>\n",
       "    </tr>\n",
       "    <tr>\n",
       "      <th>5</th>\n",
       "      <td>Cyprus</td>\n",
       "      <td>207</td>\n",
       "    </tr>\n",
       "  </tbody>\n",
       "</table>\n",
       "</div>"
      ],
      "text/plain": [
       "       city Number of migrants\n",
       "1   Austria               1079\n",
       "2   Belgium               1581\n",
       "3  Bulgaria               3994\n",
       "4   Croatia              13649\n",
       "5    Cyprus                207"
      ]
     },
     "execution_count": 12,
     "metadata": {},
     "output_type": "execute_result"
    }
   ],
   "source": [
    "NIC_3 = NIC_3.drop(NIC_3.index[[0]],\n",
    "               axis=0)\n",
    "NIC_3.head()"
   ]
  },
  {
   "cell_type": "code",
   "execution_count": 13,
   "id": "6db9bb47",
   "metadata": {},
   "outputs": [
    {
     "data": {
      "text/plain": [
       "city                  AustriaBelgiumBulgariaCroatiaCyprusCzechiaDenm...\n",
       "Number of migrants                                               631785\n",
       "dtype: object"
      ]
     },
     "execution_count": 13,
     "metadata": {},
     "output_type": "execute_result"
    }
   ],
   "source": [
    "NIC_3.sum()"
   ]
  },
  {
   "cell_type": "code",
   "execution_count": 14,
   "id": "a91bacca",
   "metadata": {},
   "outputs": [
    {
     "name": "stdout",
     "output_type": "stream",
     "text": [
      "                 city Number of migrants\n",
      "20             Poland              93680\n",
      "27                 UK              83347\n",
      "95              India              45449\n",
      "22            Romania              43323\n",
      "16          Lithuania              31177\n",
      "..                ...                ...\n",
      "130      Turkmenistan                  5\n",
      "173  Papua New Guinea                  4\n",
      "129        Tajikistan                  4\n",
      "171             Gabon                  2\n",
      "169          Suriname                  1\n",
      "\n",
      "[178 rows x 2 columns]\n"
     ]
    }
   ],
   "source": [
    "print(NIC_3.sort_values(by=['Number of migrants'],ascending=[False]))"
   ]
  },
  {
   "cell_type": "code",
   "execution_count": 15,
   "id": "46f2cb25",
   "metadata": {},
   "outputs": [
    {
     "data": {
      "text/plain": [
       "3549.35393258427"
      ]
     },
     "execution_count": 15,
     "metadata": {},
     "output_type": "execute_result"
    }
   ],
   "source": [
    "NIC_3['Number of migrants'].mean()"
   ]
  },
  {
   "cell_type": "code",
   "execution_count": 16,
   "id": "ca4ce412",
   "metadata": {},
   "outputs": [
    {
     "data": {
      "text/plain": [
       "93680"
      ]
     },
     "execution_count": 16,
     "metadata": {},
     "output_type": "execute_result"
    }
   ],
   "source": [
    "NIC_3['Number of migrants'].max()"
   ]
  },
  {
   "cell_type": "code",
   "execution_count": 17,
   "id": "8ce68d0d",
   "metadata": {},
   "outputs": [
    {
     "data": {
      "text/plain": [
       "1"
      ]
     },
     "execution_count": 17,
     "metadata": {},
     "output_type": "execute_result"
    }
   ],
   "source": [
    "NIC_3['Number of migrants'].min()"
   ]
  },
  {
   "cell_type": "code",
   "execution_count": 18,
   "id": "5f6298b9",
   "metadata": {},
   "outputs": [
    {
     "data": {
      "text/html": [
       "<div>\n",
       "<style scoped>\n",
       "    .dataframe tbody tr th:only-of-type {\n",
       "        vertical-align: middle;\n",
       "    }\n",
       "\n",
       "    .dataframe tbody tr th {\n",
       "        vertical-align: top;\n",
       "    }\n",
       "\n",
       "    .dataframe thead th {\n",
       "        text-align: right;\n",
       "    }\n",
       "</style>\n",
       "<table border=\"1\" class=\"dataframe\">\n",
       "  <thead>\n",
       "    <tr style=\"text-align: right;\">\n",
       "      <th></th>\n",
       "      <th>city</th>\n",
       "      <th>Number of migrants</th>\n",
       "    </tr>\n",
       "  </thead>\n",
       "  <tbody>\n",
       "    <tr>\n",
       "      <th>3</th>\n",
       "      <td>Bulgaria</td>\n",
       "      <td>3994</td>\n",
       "    </tr>\n",
       "    <tr>\n",
       "      <th>4</th>\n",
       "      <td>Croatia</td>\n",
       "      <td>13649</td>\n",
       "    </tr>\n",
       "    <tr>\n",
       "      <th>6</th>\n",
       "      <td>Czechia</td>\n",
       "      <td>4530</td>\n",
       "    </tr>\n",
       "    <tr>\n",
       "      <th>10</th>\n",
       "      <td>France</td>\n",
       "      <td>13893</td>\n",
       "    </tr>\n",
       "    <tr>\n",
       "      <th>11</th>\n",
       "      <td>Germany</td>\n",
       "      <td>12390</td>\n",
       "    </tr>\n",
       "  </tbody>\n",
       "</table>\n",
       "</div>"
      ],
      "text/plain": [
       "        city Number of migrants\n",
       "3   Bulgaria               3994\n",
       "4    Croatia              13649\n",
       "6    Czechia               4530\n",
       "10    France              13893\n",
       "11   Germany              12390"
      ]
     },
     "execution_count": 18,
     "metadata": {},
     "output_type": "execute_result"
    }
   ],
   "source": [
    "first_26= NIC_3[NIC_3['Number of migrants']>3549.36]\n",
    "first_26.head()"
   ]
  },
  {
   "cell_type": "code",
   "execution_count": 19,
   "id": "cbabfa98",
   "metadata": {},
   "outputs": [
    {
     "data": {
      "text/plain": [
       "(26, 2)"
      ]
     },
     "execution_count": 19,
     "metadata": {},
     "output_type": "execute_result"
    }
   ],
   "source": [
    "first_26.shape"
   ]
  },
  {
   "cell_type": "code",
   "execution_count": 20,
   "id": "80915274",
   "metadata": {},
   "outputs": [
    {
     "data": {
      "text/plain": [
       "city                  BulgariaCroatiaCzechiaFranceGermanyHungaryItal...\n",
       "Number of migrants                                               547185\n",
       "dtype: object"
      ]
     },
     "execution_count": 20,
     "metadata": {},
     "output_type": "execute_result"
    }
   ],
   "source": [
    "first_26.sum()"
   ]
  },
  {
   "cell_type": "code",
   "execution_count": 21,
   "id": "15a2a6c4",
   "metadata": {},
   "outputs": [
    {
     "data": {
      "text/html": [
       "<div>\n",
       "<style scoped>\n",
       "    .dataframe tbody tr th:only-of-type {\n",
       "        vertical-align: middle;\n",
       "    }\n",
       "\n",
       "    .dataframe tbody tr th {\n",
       "        vertical-align: top;\n",
       "    }\n",
       "\n",
       "    .dataframe thead th {\n",
       "        text-align: right;\n",
       "    }\n",
       "</style>\n",
       "<table border=\"1\" class=\"dataframe\">\n",
       "  <thead>\n",
       "    <tr style=\"text-align: right;\">\n",
       "      <th></th>\n",
       "      <th>city</th>\n",
       "      <th>Number of migrants</th>\n",
       "    </tr>\n",
       "  </thead>\n",
       "  <tbody>\n",
       "    <tr>\n",
       "      <th>1</th>\n",
       "      <td>Austria</td>\n",
       "      <td>1079</td>\n",
       "    </tr>\n",
       "    <tr>\n",
       "      <th>2</th>\n",
       "      <td>Belgium</td>\n",
       "      <td>1581</td>\n",
       "    </tr>\n",
       "    <tr>\n",
       "      <th>5</th>\n",
       "      <td>Cyprus</td>\n",
       "      <td>207</td>\n",
       "    </tr>\n",
       "    <tr>\n",
       "      <th>7</th>\n",
       "      <td>Denmark</td>\n",
       "      <td>935</td>\n",
       "    </tr>\n",
       "    <tr>\n",
       "      <th>8</th>\n",
       "      <td>Estonia</td>\n",
       "      <td>1892</td>\n",
       "    </tr>\n",
       "  </tbody>\n",
       "</table>\n",
       "</div>"
      ],
      "text/plain": [
       "      city Number of migrants\n",
       "1  Austria               1079\n",
       "2  Belgium               1581\n",
       "5   Cyprus                207\n",
       "7  Denmark                935\n",
       "8  Estonia               1892"
      ]
     },
     "execution_count": 21,
     "metadata": {},
     "output_type": "execute_result"
    }
   ],
   "source": [
    "rest= NIC_3[NIC_3['Number of migrants']<3549.36]\n",
    "rest.head()"
   ]
  },
  {
   "cell_type": "code",
   "execution_count": 22,
   "id": "c138c5ab",
   "metadata": {
    "scrolled": true
   },
   "outputs": [
    {
     "data": {
      "text/plain": [
       "(152, 2)"
      ]
     },
     "execution_count": 22,
     "metadata": {},
     "output_type": "execute_result"
    }
   ],
   "source": [
    "rest.shape"
   ]
  },
  {
   "cell_type": "code",
   "execution_count": 23,
   "id": "45cd2ef5",
   "metadata": {},
   "outputs": [
    {
     "data": {
      "text/plain": [
       "city                  AustriaBelgiumCyprusDenmarkEstoniaFinlandGreec...\n",
       "Number of migrants                                                84600\n",
       "dtype: object"
      ]
     },
     "execution_count": 23,
     "metadata": {},
     "output_type": "execute_result"
    }
   ],
   "source": [
    "rest.sum()"
   ]
  },
  {
   "cell_type": "code",
   "execution_count": 24,
   "id": "aadad8b0",
   "metadata": {},
   "outputs": [
    {
     "data": {
      "text/plain": [
       "84600"
      ]
     },
     "execution_count": 24,
     "metadata": {},
     "output_type": "execute_result"
    }
   ],
   "source": [
    "rest['Number of migrants'].sum()"
   ]
  },
  {
   "cell_type": "code",
   "execution_count": 25,
   "id": "906cfd03",
   "metadata": {},
   "outputs": [
    {
     "name": "stdout",
     "output_type": "stream",
     "text": [
      "<class 'pandas.core.frame.DataFrame'>\n",
      "Int64Index: 152 entries, 1 to 177\n",
      "Data columns (total 2 columns):\n",
      " #   Column              Non-Null Count  Dtype \n",
      "---  ------              --------------  ----- \n",
      " 0   city                152 non-null    object\n",
      " 1   Number of migrants  152 non-null    object\n",
      "dtypes: object(2)\n",
      "memory usage: 3.6+ KB\n"
     ]
    }
   ],
   "source": [
    "rest.info()"
   ]
  },
  {
   "cell_type": "code",
   "execution_count": 26,
   "id": "e484d182",
   "metadata": {},
   "outputs": [],
   "source": [
    "#Total of migrants in 2022 (631785)"
   ]
  },
  {
   "cell_type": "code",
   "execution_count": 27,
   "id": "a05e09fa",
   "metadata": {},
   "outputs": [],
   "source": [
    "Total= 547185 +84600 "
   ]
  },
  {
   "cell_type": "code",
   "execution_count": 28,
   "id": "94d648cd",
   "metadata": {},
   "outputs": [
    {
     "data": {
      "text/plain": [
       "631785"
      ]
     },
     "execution_count": 28,
     "metadata": {},
     "output_type": "execute_result"
    }
   ],
   "source": [
    "Total"
   ]
  },
  {
   "cell_type": "code",
   "execution_count": 29,
   "id": "4586fbab",
   "metadata": {},
   "outputs": [
    {
     "name": "stderr",
     "output_type": "stream",
     "text": [
      "C:\\Users\\mara_\\AppData\\Local\\Temp\\ipykernel_21724\\1639444848.py:3: FutureWarning: The frame.append method is deprecated and will be removed from pandas in a future version. Use pandas.concat instead.\n",
      "  first_26 = first_26.append( Rest_countries, ignore_index=True)\n"
     ]
    },
    {
     "data": {
      "text/html": [
       "<div>\n",
       "<style scoped>\n",
       "    .dataframe tbody tr th:only-of-type {\n",
       "        vertical-align: middle;\n",
       "    }\n",
       "\n",
       "    .dataframe tbody tr th {\n",
       "        vertical-align: top;\n",
       "    }\n",
       "\n",
       "    .dataframe thead th {\n",
       "        text-align: right;\n",
       "    }\n",
       "</style>\n",
       "<table border=\"1\" class=\"dataframe\">\n",
       "  <thead>\n",
       "    <tr style=\"text-align: right;\">\n",
       "      <th></th>\n",
       "      <th>city</th>\n",
       "      <th>Number of migrants</th>\n",
       "    </tr>\n",
       "  </thead>\n",
       "  <tbody>\n",
       "    <tr>\n",
       "      <th>0</th>\n",
       "      <td>Bulgaria</td>\n",
       "      <td>3994</td>\n",
       "    </tr>\n",
       "    <tr>\n",
       "      <th>1</th>\n",
       "      <td>Croatia</td>\n",
       "      <td>13649</td>\n",
       "    </tr>\n",
       "    <tr>\n",
       "      <th>2</th>\n",
       "      <td>Czechia</td>\n",
       "      <td>4530</td>\n",
       "    </tr>\n",
       "    <tr>\n",
       "      <th>3</th>\n",
       "      <td>France</td>\n",
       "      <td>13893</td>\n",
       "    </tr>\n",
       "    <tr>\n",
       "      <th>4</th>\n",
       "      <td>Germany</td>\n",
       "      <td>12390</td>\n",
       "    </tr>\n",
       "    <tr>\n",
       "      <th>5</th>\n",
       "      <td>Hungary</td>\n",
       "      <td>8503</td>\n",
       "    </tr>\n",
       "    <tr>\n",
       "      <th>6</th>\n",
       "      <td>Italy</td>\n",
       "      <td>18319</td>\n",
       "    </tr>\n",
       "    <tr>\n",
       "      <th>7</th>\n",
       "      <td>Latvia</td>\n",
       "      <td>18300</td>\n",
       "    </tr>\n",
       "    <tr>\n",
       "      <th>8</th>\n",
       "      <td>Lithuania</td>\n",
       "      <td>31177</td>\n",
       "    </tr>\n",
       "    <tr>\n",
       "      <th>9</th>\n",
       "      <td>Netherlands</td>\n",
       "      <td>4670</td>\n",
       "    </tr>\n",
       "    <tr>\n",
       "      <th>10</th>\n",
       "      <td>Poland</td>\n",
       "      <td>93680</td>\n",
       "    </tr>\n",
       "    <tr>\n",
       "      <th>11</th>\n",
       "      <td>Portugal</td>\n",
       "      <td>8310</td>\n",
       "    </tr>\n",
       "    <tr>\n",
       "      <th>12</th>\n",
       "      <td>Romania</td>\n",
       "      <td>43323</td>\n",
       "    </tr>\n",
       "    <tr>\n",
       "      <th>13</th>\n",
       "      <td>Slovakia</td>\n",
       "      <td>8600</td>\n",
       "    </tr>\n",
       "    <tr>\n",
       "      <th>14</th>\n",
       "      <td>Spain</td>\n",
       "      <td>17953</td>\n",
       "    </tr>\n",
       "    <tr>\n",
       "      <th>15</th>\n",
       "      <td>UK</td>\n",
       "      <td>83347</td>\n",
       "    </tr>\n",
       "    <tr>\n",
       "      <th>16</th>\n",
       "      <td>Ukraine</td>\n",
       "      <td>11791</td>\n",
       "    </tr>\n",
       "    <tr>\n",
       "      <th>17</th>\n",
       "      <td>Nigeria</td>\n",
       "      <td>8368</td>\n",
       "    </tr>\n",
       "    <tr>\n",
       "      <th>18</th>\n",
       "      <td>South Africa</td>\n",
       "      <td>8250</td>\n",
       "    </tr>\n",
       "    <tr>\n",
       "      <th>19</th>\n",
       "      <td>China</td>\n",
       "      <td>13050</td>\n",
       "    </tr>\n",
       "    <tr>\n",
       "      <th>20</th>\n",
       "      <td>Philippines (the)</td>\n",
       "      <td>7736</td>\n",
       "    </tr>\n",
       "    <tr>\n",
       "      <th>21</th>\n",
       "      <td>India</td>\n",
       "      <td>45449</td>\n",
       "    </tr>\n",
       "    <tr>\n",
       "      <th>22</th>\n",
       "      <td>Pakistan</td>\n",
       "      <td>9309</td>\n",
       "    </tr>\n",
       "    <tr>\n",
       "      <th>23</th>\n",
       "      <td>USA</td>\n",
       "      <td>13412</td>\n",
       "    </tr>\n",
       "    <tr>\n",
       "      <th>24</th>\n",
       "      <td>Brazil</td>\n",
       "      <td>27338</td>\n",
       "    </tr>\n",
       "    <tr>\n",
       "      <th>25</th>\n",
       "      <td>Rest of the World (1)</td>\n",
       "      <td>17844</td>\n",
       "    </tr>\n",
       "    <tr>\n",
       "      <th>26</th>\n",
       "      <td>Rest of the World Total</td>\n",
       "      <td>84600</td>\n",
       "    </tr>\n",
       "  </tbody>\n",
       "</table>\n",
       "</div>"
      ],
      "text/plain": [
       "                       city Number of migrants\n",
       "0                  Bulgaria               3994\n",
       "1                   Croatia              13649\n",
       "2                   Czechia               4530\n",
       "3                    France              13893\n",
       "4                   Germany              12390\n",
       "5                   Hungary               8503\n",
       "6                     Italy              18319\n",
       "7                    Latvia              18300\n",
       "8                 Lithuania              31177\n",
       "9               Netherlands               4670\n",
       "10                   Poland              93680\n",
       "11                 Portugal               8310\n",
       "12                  Romania              43323\n",
       "13                 Slovakia               8600\n",
       "14                    Spain              17953\n",
       "15                       UK              83347\n",
       "16                  Ukraine              11791\n",
       "17                  Nigeria               8368\n",
       "18             South Africa               8250\n",
       "19                    China              13050\n",
       "20        Philippines (the)               7736\n",
       "21                    India              45449\n",
       "22                 Pakistan               9309\n",
       "23                      USA              13412\n",
       "24                   Brazil              27338\n",
       "25    Rest of the World (1)              17844\n",
       "26  Rest of the World Total              84600"
      ]
     },
     "execution_count": 29,
     "metadata": {},
     "output_type": "execute_result"
    }
   ],
   "source": [
    "Rest_countries={\"city\": \"Rest of the World Total\",\"Number of migrants\":84600}\n",
    "\n",
    "first_26 = first_26.append( Rest_countries, ignore_index=True)\n",
    "\n",
    "first_26"
   ]
  },
  {
   "cell_type": "code",
   "execution_count": 30,
   "id": "5fcfee76",
   "metadata": {},
   "outputs": [
    {
     "data": {
      "text/plain": [
       "631785"
      ]
     },
     "execution_count": 30,
     "metadata": {},
     "output_type": "execute_result"
    }
   ],
   "source": [
    "first_26['Number of migrants'].sum()"
   ]
  },
  {
   "cell_type": "code",
   "execution_count": 31,
   "id": "92f419b6",
   "metadata": {},
   "outputs": [],
   "source": [
    "x=first_26['city']\n",
    "y=first_26['Number of migrants']"
   ]
  },
  {
   "cell_type": "markdown",
   "id": "272cedb1",
   "metadata": {},
   "source": [
    "NIC.melt(var_name=\"Country\",value_name=\"Number of migrants\")"
   ]
  },
  {
   "cell_type": "code",
   "execution_count": 32,
   "id": "22e5927c",
   "metadata": {},
   "outputs": [
    {
     "data": {
      "text/plain": [
       "<BarContainer object of 27 artists>"
      ]
     },
     "execution_count": 32,
     "metadata": {},
     "output_type": "execute_result"
    },
    {
     "data": {
      "image/png": "[encoded data removed]",
      "text/plain": [
       "<Figure size 640x480 with 1 Axes>"
      ]
     },
     "metadata": {},
     "output_type": "display_data"
    }
   ],
   "source": [
    "plt.xlabel('CITY',fontsize=10)\n",
    "plt.ylabel('NUMBER OF MIGRANTS',fontsize=10)\n",
    "plt.xticks(rotation=90)\n",
    "plt.bar(x,y)\n"
   ]
  },
  {
   "cell_type": "code",
   "execution_count": 33,
   "id": "b948261d",
   "metadata": {},
   "outputs": [
    {
     "data": {
      "text/plain": [
       "[<matplotlib.lines.Line2D at 0x221d9882c10>]"
      ]
     },
     "execution_count": 33,
     "metadata": {},
     "output_type": "execute_result"
    },
    {
     "data": {
      "image/png": "[encoded data removed]",
      "text/plain": [
       "<Figure size 640x480 with 1 Axes>"
      ]
     },
     "metadata": {},
     "output_type": "display_data"
    }
   ],
   "source": [
    "plt.xlabel('CITY',fontsize=10)\n",
    "plt.ylabel('NUMBER OF MIGRANTS',fontsize=10)\n",
    "plt.xticks(rotation=90)\n",
    "plt.plot(x,y)"
   ]
  },
  {
   "cell_type": "code",
   "execution_count": 34,
   "id": "1ededa18",
   "metadata": {},
   "outputs": [
    {
     "data": {
      "text/plain": [
       "(array([ 0,  1,  2,  3,  4,  5,  6,  7,  8,  9, 10, 11, 12, 13, 14, 15, 16,\n",
       "        17, 18, 19, 20, 21, 22, 23, 24, 25, 26]),\n",
       " [Text(0, 0, 'Bulgaria'),\n",
       "  Text(1, 0, 'Croatia'),\n",
       "  Text(2, 0, 'Czechia'),\n",
       "  Text(3, 0, 'France'),\n",
       "  Text(4, 0, 'Germany'),\n",
       "  Text(5, 0, 'Hungary'),\n",
       "  Text(6, 0, 'Italy'),\n",
       "  Text(7, 0, 'Latvia'),\n",
       "  Text(8, 0, 'Lithuania'),\n",
       "  Text(9, 0, 'Netherlands'),\n",
       "  Text(10, 0, 'Poland'),\n",
       "  Text(11, 0, 'Portugal'),\n",
       "  Text(12, 0, 'Romania'),\n",
       "  Text(13, 0, 'Slovakia'),\n",
       "  Text(14, 0, 'Spain'),\n",
       "  Text(15, 0, 'UK'),\n",
       "  Text(16, 0, 'Ukraine'),\n",
       "  Text(17, 0, 'Nigeria'),\n",
       "  Text(18, 0, 'South Africa'),\n",
       "  Text(19, 0, 'China'),\n",
       "  Text(20, 0, 'Philippines (the)'),\n",
       "  Text(21, 0, 'India'),\n",
       "  Text(22, 0, 'Pakistan'),\n",
       "  Text(23, 0, 'USA'),\n",
       "  Text(24, 0, 'Brazil'),\n",
       "  Text(25, 0, 'Rest of the World (1)'),\n",
       "  Text(26, 0, 'Rest of the World Total')])"
      ]
     },
     "execution_count": 34,
     "metadata": {},
     "output_type": "execute_result"
    },
    {
     "data": {
      "image/png": "[encoded data removed]",
      "text/plain": [
       "<Figure size 640x480 with 1 Axes>"
      ]
     },
     "metadata": {},
     "output_type": "display_data"
    }
   ],
   "source": [
    " ax = sns.barplot(x='city', y='Number of migrants', data=first_26) \n",
    "plt.xticks(rotation=90)\n"
   ]
  },
  {
   "cell_type": "code",
   "execution_count": 35,
   "id": "a5fb00b1",
   "metadata": {},
   "outputs": [
    {
     "data": {
      "text/plain": [
       "<Axes: title={'center': 'TOP 26 Migrants in Ireland'}, ylabel='city'>"
      ]
     },
     "execution_count": 35,
     "metadata": {},
     "output_type": "execute_result"
    },
    {
     "data": {
      "image/png": "[encoded data removed]",
      "text/plain": [
       "<Figure size 640x480 with 1 Axes>"
      ]
     },
     "metadata": {},
     "output_type": "display_data"
    }
   ],
   "source": [
    "first_26[\"city\"].value_counts().plot(kind=\"pie\",autopct='%0.01f%%',\n",
    "                                               title='TOP 26 Migrants in Ireland')"
   ]
  },
  {
   "cell_type": "code",
   "execution_count": 36,
   "id": "6cb8aa68",
   "metadata": {},
   "outputs": [
    {
     "data": {
      "text/plain": [
       "([0,\n",
       "  1,\n",
       "  2,\n",
       "  3,\n",
       "  4,\n",
       "  5,\n",
       "  6,\n",
       "  7,\n",
       "  8,\n",
       "  9,\n",
       "  10,\n",
       "  11,\n",
       "  12,\n",
       "  13,\n",
       "  14,\n",
       "  15,\n",
       "  16,\n",
       "  17,\n",
       "  18,\n",
       "  19,\n",
       "  20,\n",
       "  21,\n",
       "  22,\n",
       "  23,\n",
       "  24,\n",
       "  25,\n",
       "  26],\n",
       " [Text(0, 0, 'Bulgaria'),\n",
       "  Text(1, 0, 'Croatia'),\n",
       "  Text(2, 0, 'Czechia'),\n",
       "  Text(3, 0, 'France'),\n",
       "  Text(4, 0, 'Germany'),\n",
       "  Text(5, 0, 'Hungary'),\n",
       "  Text(6, 0, 'Italy'),\n",
       "  Text(7, 0, 'Latvia'),\n",
       "  Text(8, 0, 'Lithuania'),\n",
       "  Text(9, 0, 'Netherlands'),\n",
       "  Text(10, 0, 'Poland'),\n",
       "  Text(11, 0, 'Portugal'),\n",
       "  Text(12, 0, 'Romania'),\n",
       "  Text(13, 0, 'Slovakia'),\n",
       "  Text(14, 0, 'Spain'),\n",
       "  Text(15, 0, 'UK'),\n",
       "  Text(16, 0, 'Ukraine'),\n",
       "  Text(17, 0, 'Nigeria'),\n",
       "  Text(18, 0, 'South Africa'),\n",
       "  Text(19, 0, 'China'),\n",
       "  Text(20, 0, 'Philippines (the)'),\n",
       "  Text(21, 0, 'India'),\n",
       "  Text(22, 0, 'Pakistan'),\n",
       "  Text(23, 0, 'USA'),\n",
       "  Text(24, 0, 'Brazil'),\n",
       "  Text(25, 0, 'Rest of the World (1)'),\n",
       "  Text(26, 0, 'Rest of the World Total')])"
      ]
     },
     "execution_count": 36,
     "metadata": {},
     "output_type": "execute_result"
    },
    {
     "data": {
      "image/png": "[encoded data removed]",
      "text/plain": [
       "<Figure size 640x480 with 1 Axes>"
      ]
     },
     "metadata": {},
     "output_type": "display_data"
    }
   ],
   "source": [
    "sns.scatterplot(data=first_26, x='city', y='Number of migrants', alpha=0.7); \n",
    "plt.xticks(rotation=90)"
   ]
  },
  {
   "cell_type": "code",
   "execution_count": 37,
   "id": "5c8382d5",
   "metadata": {},
   "outputs": [
    {
     "data": {
      "text/plain": [
       "<matplotlib.collections.PathCollection at 0x221d985d750>"
      ]
     },
     "execution_count": 37,
     "metadata": {},
     "output_type": "execute_result"
    },
    {
     "data": {
      "image/png": "[encoded data removed]",
      "text/plain": [
       "<Figure size 640x480 with 1 Axes>"
      ]
     },
     "metadata": {},
     "output_type": "display_data"
    }
   ],
   "source": [
    "plt.xlabel('CITY',fontsize=13)\n",
    "plt.ylabel('NUMBER OF MIGRANTS',fontsize=13)\n",
    "plt.xticks(rotation=90)\n",
    "plt.scatter(x,y)"
   ]
  },
  {
   "cell_type": "markdown",
   "id": "90e0a07c",
   "metadata": {},
   "source": [
    "# Migrants by sex"
   ]
  },
  {
   "cell_type": "code",
   "execution_count": 38,
   "id": "fff444e7",
   "metadata": {},
   "outputs": [
    {
     "name": "stderr",
     "output_type": "stream",
     "text": [
      "C:\\Users\\mara_\\AppData\\Local\\Temp\\ipykernel_21724\\3941138457.py:1: FutureWarning: Dropping of nuisance columns in DataFrame reductions (with 'numeric_only=None') is deprecated; in a future version this will raise TypeError.  Select only valid columns before calling the reduction.\n",
      "  NIC_1['Total']= NIC_1.sum(axis=1)\n"
     ]
    },
    {
     "data": {
      "text/html": [
       "<div>\n",
       "<style scoped>\n",
       "    .dataframe tbody tr th:only-of-type {\n",
       "        vertical-align: middle;\n",
       "    }\n",
       "\n",
       "    .dataframe tbody tr th {\n",
       "        vertical-align: top;\n",
       "    }\n",
       "\n",
       "    .dataframe thead th {\n",
       "        text-align: right;\n",
       "    }\n",
       "</style>\n",
       "<table border=\"1\" class=\"dataframe\">\n",
       "  <thead>\n",
       "    <tr style=\"text-align: right;\">\n",
       "      <th></th>\n",
       "      <th>Sex</th>\n",
       "      <th>Austria</th>\n",
       "      <th>Belgium</th>\n",
       "      <th>Bulgaria</th>\n",
       "      <th>Croatia</th>\n",
       "      <th>Cyprus</th>\n",
       "      <th>Czechia</th>\n",
       "      <th>Denmark</th>\n",
       "      <th>Estonia</th>\n",
       "      <th>Finland</th>\n",
       "      <th>...</th>\n",
       "      <th>Central African Republic</th>\n",
       "      <th>Gabon</th>\n",
       "      <th>Equatorial Guinea</th>\n",
       "      <th>Papua New Guinea</th>\n",
       "      <th>Democratic Rep of Congo</th>\n",
       "      <th>Timor-Leste</th>\n",
       "      <th>Myanmar</th>\n",
       "      <th>Korea (the Democratic People's Republic of) North Korea</th>\n",
       "      <th>Rest of the World (1)</th>\n",
       "      <th>Total</th>\n",
       "    </tr>\n",
       "  </thead>\n",
       "  <tbody>\n",
       "    <tr>\n",
       "      <th>0</th>\n",
       "      <td>Both sexes</td>\n",
       "      <td>1079</td>\n",
       "      <td>1581</td>\n",
       "      <td>3994</td>\n",
       "      <td>13649</td>\n",
       "      <td>207</td>\n",
       "      <td>4530</td>\n",
       "      <td>935</td>\n",
       "      <td>1892</td>\n",
       "      <td>1061</td>\n",
       "      <td>...</td>\n",
       "      <td>7</td>\n",
       "      <td>2</td>\n",
       "      <td>7</td>\n",
       "      <td>4</td>\n",
       "      <td>954</td>\n",
       "      <td>55</td>\n",
       "      <td>58</td>\n",
       "      <td>8</td>\n",
       "      <td>17844</td>\n",
       "      <td>631785</td>\n",
       "    </tr>\n",
       "    <tr>\n",
       "      <th>1</th>\n",
       "      <td>Male</td>\n",
       "      <td>458</td>\n",
       "      <td>845</td>\n",
       "      <td>2012</td>\n",
       "      <td>7479</td>\n",
       "      <td>110</td>\n",
       "      <td>2226</td>\n",
       "      <td>497</td>\n",
       "      <td>741</td>\n",
       "      <td>339</td>\n",
       "      <td>...</td>\n",
       "      <td>4</td>\n",
       "      <td>0</td>\n",
       "      <td>5</td>\n",
       "      <td>2</td>\n",
       "      <td>494</td>\n",
       "      <td>52</td>\n",
       "      <td>33</td>\n",
       "      <td>2</td>\n",
       "      <td>8903</td>\n",
       "      <td>314707</td>\n",
       "    </tr>\n",
       "    <tr>\n",
       "      <th>2</th>\n",
       "      <td>Female</td>\n",
       "      <td>621</td>\n",
       "      <td>736</td>\n",
       "      <td>1982</td>\n",
       "      <td>6170</td>\n",
       "      <td>97</td>\n",
       "      <td>2304</td>\n",
       "      <td>438</td>\n",
       "      <td>1151</td>\n",
       "      <td>722</td>\n",
       "      <td>...</td>\n",
       "      <td>3</td>\n",
       "      <td>2</td>\n",
       "      <td>2</td>\n",
       "      <td>2</td>\n",
       "      <td>460</td>\n",
       "      <td>3</td>\n",
       "      <td>25</td>\n",
       "      <td>6</td>\n",
       "      <td>8941</td>\n",
       "      <td>317078</td>\n",
       "    </tr>\n",
       "  </tbody>\n",
       "</table>\n",
       "<p>3 rows × 180 columns</p>\n",
       "</div>"
      ],
      "text/plain": [
       "          Sex  Austria  Belgium  Bulgaria  Croatia  Cyprus  Czechia  Denmark  \\\n",
       "0  Both sexes     1079     1581      3994    13649     207     4530      935   \n",
       "1        Male      458      845      2012     7479     110     2226      497   \n",
       "2      Female      621      736      1982     6170      97     2304      438   \n",
       "\n",
       "   Estonia  Finland  ...  Central African Republic  Gabon  Equatorial Guinea  \\\n",
       "0     1892     1061  ...                         7      2                  7   \n",
       "1      741      339  ...                         4      0                  5   \n",
       "2     1151      722  ...                         3      2                  2   \n",
       "\n",
       "   Papua New Guinea  Democratic Rep of Congo  Timor-Leste  Myanmar  \\\n",
       "0                 4                      954           55       58   \n",
       "1                 2                      494           52       33   \n",
       "2                 2                      460            3       25   \n",
       "\n",
       "   Korea (the Democratic People's Republic of) North Korea  \\\n",
       "0                                                  8         \n",
       "1                                                  2         \n",
       "2                                                  6         \n",
       "\n",
       "   Rest of the World (1)   Total  \n",
       "0                  17844  631785  \n",
       "1                   8903  314707  \n",
       "2                   8941  317078  \n",
       "\n",
       "[3 rows x 180 columns]"
      ]
     },
     "execution_count": 38,
     "metadata": {},
     "output_type": "execute_result"
    }
   ],
   "source": [
    "NIC_1['Total']= NIC_1.sum(axis=1)\n",
    "NIC_1"
   ]
  },
  {
   "cell_type": "code",
   "execution_count": 39,
   "id": "87b6c9ea",
   "metadata": {},
   "outputs": [
    {
     "data": {
      "text/html": [
       "<div>\n",
       "<style scoped>\n",
       "    .dataframe tbody tr th:only-of-type {\n",
       "        vertical-align: middle;\n",
       "    }\n",
       "\n",
       "    .dataframe tbody tr th {\n",
       "        vertical-align: top;\n",
       "    }\n",
       "\n",
       "    .dataframe thead th {\n",
       "        text-align: right;\n",
       "    }\n",
       "</style>\n",
       "<table border=\"1\" class=\"dataframe\">\n",
       "  <thead>\n",
       "    <tr style=\"text-align: right;\">\n",
       "      <th></th>\n",
       "      <th>Sex</th>\n",
       "      <th>Austria</th>\n",
       "      <th>Belgium</th>\n",
       "      <th>Bulgaria</th>\n",
       "      <th>Croatia</th>\n",
       "      <th>Cyprus</th>\n",
       "      <th>Czechia</th>\n",
       "      <th>Denmark</th>\n",
       "      <th>Estonia</th>\n",
       "      <th>Finland</th>\n",
       "      <th>...</th>\n",
       "      <th>Central African Republic</th>\n",
       "      <th>Gabon</th>\n",
       "      <th>Equatorial Guinea</th>\n",
       "      <th>Papua New Guinea</th>\n",
       "      <th>Democratic Rep of Congo</th>\n",
       "      <th>Timor-Leste</th>\n",
       "      <th>Myanmar</th>\n",
       "      <th>Korea (the Democratic People's Republic of) North Korea</th>\n",
       "      <th>Rest of the World (1)</th>\n",
       "      <th>Total</th>\n",
       "    </tr>\n",
       "  </thead>\n",
       "  <tbody>\n",
       "    <tr>\n",
       "      <th>1</th>\n",
       "      <td>Male</td>\n",
       "      <td>458</td>\n",
       "      <td>845</td>\n",
       "      <td>2012</td>\n",
       "      <td>7479</td>\n",
       "      <td>110</td>\n",
       "      <td>2226</td>\n",
       "      <td>497</td>\n",
       "      <td>741</td>\n",
       "      <td>339</td>\n",
       "      <td>...</td>\n",
       "      <td>4</td>\n",
       "      <td>0</td>\n",
       "      <td>5</td>\n",
       "      <td>2</td>\n",
       "      <td>494</td>\n",
       "      <td>52</td>\n",
       "      <td>33</td>\n",
       "      <td>2</td>\n",
       "      <td>8903</td>\n",
       "      <td>314707</td>\n",
       "    </tr>\n",
       "    <tr>\n",
       "      <th>2</th>\n",
       "      <td>Female</td>\n",
       "      <td>621</td>\n",
       "      <td>736</td>\n",
       "      <td>1982</td>\n",
       "      <td>6170</td>\n",
       "      <td>97</td>\n",
       "      <td>2304</td>\n",
       "      <td>438</td>\n",
       "      <td>1151</td>\n",
       "      <td>722</td>\n",
       "      <td>...</td>\n",
       "      <td>3</td>\n",
       "      <td>2</td>\n",
       "      <td>2</td>\n",
       "      <td>2</td>\n",
       "      <td>460</td>\n",
       "      <td>3</td>\n",
       "      <td>25</td>\n",
       "      <td>6</td>\n",
       "      <td>8941</td>\n",
       "      <td>317078</td>\n",
       "    </tr>\n",
       "  </tbody>\n",
       "</table>\n",
       "<p>2 rows × 180 columns</p>\n",
       "</div>"
      ],
      "text/plain": [
       "      Sex  Austria  Belgium  Bulgaria  Croatia  Cyprus  Czechia  Denmark  \\\n",
       "1    Male      458      845      2012     7479     110     2226      497   \n",
       "2  Female      621      736      1982     6170      97     2304      438   \n",
       "\n",
       "   Estonia  Finland  ...  Central African Republic  Gabon  Equatorial Guinea  \\\n",
       "1      741      339  ...                         4      0                  5   \n",
       "2     1151      722  ...                         3      2                  2   \n",
       "\n",
       "   Papua New Guinea  Democratic Rep of Congo  Timor-Leste  Myanmar  \\\n",
       "1                 2                      494           52       33   \n",
       "2                 2                      460            3       25   \n",
       "\n",
       "   Korea (the Democratic People's Republic of) North Korea  \\\n",
       "1                                                  2         \n",
       "2                                                  6         \n",
       "\n",
       "   Rest of the World (1)   Total  \n",
       "1                   8903  314707  \n",
       "2                   8941  317078  \n",
       "\n",
       "[2 rows x 180 columns]"
      ]
     },
     "execution_count": 39,
     "metadata": {},
     "output_type": "execute_result"
    }
   ],
   "source": [
    "NIC_1 = NIC_1.drop(NIC_1.index[[0]],\n",
    "               axis=0)\n",
    "NIC_1.head()"
   ]
  },
  {
   "cell_type": "code",
   "execution_count": null,
   "id": "a0f9cef7",
   "metadata": {},
   "outputs": [],
   "source": []
  }
 ],
 "metadata": {
  "kernelspec": {
   "display_name": "Python 3 (ipykernel)",
   "language": "python",
   "name": "python3"
  },
  "language_info": {
   "codemirror_mode": {
    "name": "ipython",
    "version": 3
   },
   "file_extension": ".py",
   "mimetype": "text/x-python",
   "name": "python",
   "nbconvert_exporter": "python",
   "pygments_lexer": "ipython3",
   "version": "3.11.4"
  }
 },
 "nbformat": 4,
 "nbformat_minor": 5
}
