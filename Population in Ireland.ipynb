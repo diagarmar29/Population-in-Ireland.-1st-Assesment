{
 "cells": [
  {
   "cell_type": "markdown",
   "id": "df003ee4",
   "metadata": {},
   "source": [
    "# Population Ireland"
   ]
  },
  {
   "cell_type": "markdown",
   "id": "276629bd",
   "metadata": {},
   "source": [
    "Import libraries"
   ]
  },
  {
   "cell_type": "code",
   "execution_count": 63,
   "id": "8c6e071d",
   "metadata": {},
   "outputs": [],
   "source": [
    "import pandas as pd\n",
    "import numpy as np\n",
    "import os \n",
    "import seaborn as  sns\n",
    "import math\n",
    "from matplotlib import pyplot as plt"
   ]
  },
  {
   "cell_type": "markdown",
   "id": "ef1a86fd",
   "metadata": {},
   "source": [
    "Import DataBases"
   ]
  },
  {
   "cell_type": "code",
   "execution_count": 64,
   "id": "dc0e412a",
   "metadata": {},
   "outputs": [],
   "source": [
    "AP=pd.read_csv(\"Annual Population Change 1950-2023.csv\")\n",
    "EE=pd.read_csv(\"Estimated Emigration  Citizenship 2006-2023.csv\")\n",
    "EM=pd.read_csv(\"Estimated Migration. Origin or Destination 1987-2023.csv\")\n",
    "EPC=pd.read_csv(\"Estimated Population Citizenship 2006-2023.csv\")\n",
    "PEA=pd.read_csv(\"Population Estimates Age Group 1950-2023.csv\")\n",
    " #Additional databases\n",
    "NIC=pd.read_csv(\"Non-Irish citizens usually resident and present in the State by country of citizenship 2022 EXTRA.csv\")\n",
    "PAE=pd.read_csv(\"Population Ability to speak English 2022 EXTRA.csv\")"
   ]
  },
  {
   "cell_type": "markdown",
   "id": "03738c3a",
   "metadata": {},
   "source": [
    "# #  Annual Population Change since 1950"
   ]
  },
  {
   "cell_type": "markdown",
   "id": "63f204de",
   "metadata": {},
   "source": [
    "Review of database\n",
    "\n",
    "Type of files\n",
    "\n",
    "Renaming of headers "
   ]
  },
  {
   "cell_type": "code",
   "execution_count": 65,
   "id": "962a4d60",
   "metadata": {},
   "outputs": [
    {
     "data": {
      "text/html": [
       "<div>\n",
       "<style scoped>\n",
       "    .dataframe tbody tr th:only-of-type {\n",
       "        vertical-align: middle;\n",
       "    }\n",
       "\n",
       "    .dataframe tbody tr th {\n",
       "        vertical-align: top;\n",
       "    }\n",
       "\n",
       "    .dataframe thead th {\n",
       "        text-align: right;\n",
       "    }\n",
       "</style>\n",
       "<table border=\"1\" class=\"dataframe\">\n",
       "  <thead>\n",
       "    <tr style=\"text-align: right;\">\n",
       "      <th></th>\n",
       "      <th>STATISTIC</th>\n",
       "      <th>Year</th>\n",
       "      <th>UNIT</th>\n",
       "      <th>Annual births</th>\n",
       "      <th>Annual deaths</th>\n",
       "      <th>Natural increase</th>\n",
       "      <th>Immigrants</th>\n",
       "      <th>Emigrants</th>\n",
       "      <th>Net migration</th>\n",
       "      <th>Population change</th>\n",
       "      <th>Population</th>\n",
       "    </tr>\n",
       "  </thead>\n",
       "  <tbody>\n",
       "    <tr>\n",
       "      <th>0</th>\n",
       "      <td>Annual Population Change</td>\n",
       "      <td>1951</td>\n",
       "      <td>Thousand</td>\n",
       "      <td>NaN</td>\n",
       "      <td>NaN</td>\n",
       "      <td>26.6</td>\n",
       "      <td>NaN</td>\n",
       "      <td>NaN</td>\n",
       "      <td>-35.0</td>\n",
       "      <td>-8.4</td>\n",
       "      <td>2960.6</td>\n",
       "    </tr>\n",
       "    <tr>\n",
       "      <th>1</th>\n",
       "      <td>Annual Population Change</td>\n",
       "      <td>1952</td>\n",
       "      <td>Thousand</td>\n",
       "      <td>NaN</td>\n",
       "      <td>NaN</td>\n",
       "      <td>27.3</td>\n",
       "      <td>NaN</td>\n",
       "      <td>NaN</td>\n",
       "      <td>-35.0</td>\n",
       "      <td>-7.7</td>\n",
       "      <td>2952.9</td>\n",
       "    </tr>\n",
       "    <tr>\n",
       "      <th>2</th>\n",
       "      <td>Annual Population Change</td>\n",
       "      <td>1953</td>\n",
       "      <td>Thousand</td>\n",
       "      <td>NaN</td>\n",
       "      <td>NaN</td>\n",
       "      <td>29.1</td>\n",
       "      <td>NaN</td>\n",
       "      <td>NaN</td>\n",
       "      <td>-33.0</td>\n",
       "      <td>-3.9</td>\n",
       "      <td>2949.0</td>\n",
       "    </tr>\n",
       "    <tr>\n",
       "      <th>3</th>\n",
       "      <td>Annual Population Change</td>\n",
       "      <td>1954</td>\n",
       "      <td>Thousand</td>\n",
       "      <td>NaN</td>\n",
       "      <td>NaN</td>\n",
       "      <td>28.2</td>\n",
       "      <td>NaN</td>\n",
       "      <td>NaN</td>\n",
       "      <td>-36.0</td>\n",
       "      <td>-7.8</td>\n",
       "      <td>2941.2</td>\n",
       "    </tr>\n",
       "    <tr>\n",
       "      <th>4</th>\n",
       "      <td>Annual Population Change</td>\n",
       "      <td>1955</td>\n",
       "      <td>Thousand</td>\n",
       "      <td>NaN</td>\n",
       "      <td>NaN</td>\n",
       "      <td>24.7</td>\n",
       "      <td>NaN</td>\n",
       "      <td>NaN</td>\n",
       "      <td>-45.0</td>\n",
       "      <td>-20.3</td>\n",
       "      <td>2920.9</td>\n",
       "    </tr>\n",
       "  </tbody>\n",
       "</table>\n",
       "</div>"
      ],
      "text/plain": [
       "                  STATISTIC  Year      UNIT  Annual births  Annual deaths  \\\n",
       "0  Annual Population Change  1951  Thousand            NaN            NaN   \n",
       "1  Annual Population Change  1952  Thousand            NaN            NaN   \n",
       "2  Annual Population Change  1953  Thousand            NaN            NaN   \n",
       "3  Annual Population Change  1954  Thousand            NaN            NaN   \n",
       "4  Annual Population Change  1955  Thousand            NaN            NaN   \n",
       "\n",
       "   Natural increase  Immigrants  Emigrants  Net migration  Population change  \\\n",
       "0              26.6         NaN        NaN          -35.0               -8.4   \n",
       "1              27.3         NaN        NaN          -35.0               -7.7   \n",
       "2              29.1         NaN        NaN          -33.0               -3.9   \n",
       "3              28.2         NaN        NaN          -36.0               -7.8   \n",
       "4              24.7         NaN        NaN          -45.0              -20.3   \n",
       "\n",
       "   Population  \n",
       "0      2960.6  \n",
       "1      2952.9  \n",
       "2      2949.0  \n",
       "3      2941.2  \n",
       "4      2920.9  "
      ]
     },
     "execution_count": 65,
     "metadata": {},
     "output_type": "execute_result"
    }
   ],
   "source": [
    "AP.head()"
   ]
  },
  {
   "cell_type": "code",
   "execution_count": 66,
   "id": "3f1f4d6a",
   "metadata": {},
   "outputs": [],
   "source": [
    "AP_1=AP.copy()"
   ]
  },
  {
   "cell_type": "code",
   "execution_count": 68,
   "id": "d20f8a60",
   "metadata": {},
   "outputs": [],
   "source": [
    "AP=AP.rename (columns= {'Population change':'Total of the Population change','Population':'Total Population of the year'})\n",
    "AP= AP.drop(['STATISTIC','UNIT'],axis= 1)"
   ]
  },
  {
   "cell_type": "code",
   "execution_count": 69,
   "id": "aeff0803",
   "metadata": {},
   "outputs": [
    {
     "data": {
      "text/html": [
       "<div>\n",
       "<style scoped>\n",
       "    .dataframe tbody tr th:only-of-type {\n",
       "        vertical-align: middle;\n",
       "    }\n",
       "\n",
       "    .dataframe tbody tr th {\n",
       "        vertical-align: top;\n",
       "    }\n",
       "\n",
       "    .dataframe thead th {\n",
       "        text-align: right;\n",
       "    }\n",
       "</style>\n",
       "<table border=\"1\" class=\"dataframe\">\n",
       "  <thead>\n",
       "    <tr style=\"text-align: right;\">\n",
       "      <th></th>\n",
       "      <th>Year</th>\n",
       "      <th>Annual births</th>\n",
       "      <th>Annual deaths</th>\n",
       "      <th>Natural increase</th>\n",
       "      <th>Immigrants</th>\n",
       "      <th>Emigrants</th>\n",
       "      <th>Net migration</th>\n",
       "      <th>Total of the Population change</th>\n",
       "      <th>Total Population of the year</th>\n",
       "    </tr>\n",
       "  </thead>\n",
       "  <tbody>\n",
       "    <tr>\n",
       "      <th>0</th>\n",
       "      <td>1951</td>\n",
       "      <td>NaN</td>\n",
       "      <td>NaN</td>\n",
       "      <td>26.6</td>\n",
       "      <td>NaN</td>\n",
       "      <td>NaN</td>\n",
       "      <td>-35.0</td>\n",
       "      <td>-8.4</td>\n",
       "      <td>2960.6</td>\n",
       "    </tr>\n",
       "    <tr>\n",
       "      <th>1</th>\n",
       "      <td>1952</td>\n",
       "      <td>NaN</td>\n",
       "      <td>NaN</td>\n",
       "      <td>27.3</td>\n",
       "      <td>NaN</td>\n",
       "      <td>NaN</td>\n",
       "      <td>-35.0</td>\n",
       "      <td>-7.7</td>\n",
       "      <td>2952.9</td>\n",
       "    </tr>\n",
       "    <tr>\n",
       "      <th>2</th>\n",
       "      <td>1953</td>\n",
       "      <td>NaN</td>\n",
       "      <td>NaN</td>\n",
       "      <td>29.1</td>\n",
       "      <td>NaN</td>\n",
       "      <td>NaN</td>\n",
       "      <td>-33.0</td>\n",
       "      <td>-3.9</td>\n",
       "      <td>2949.0</td>\n",
       "    </tr>\n",
       "    <tr>\n",
       "      <th>3</th>\n",
       "      <td>1954</td>\n",
       "      <td>NaN</td>\n",
       "      <td>NaN</td>\n",
       "      <td>28.2</td>\n",
       "      <td>NaN</td>\n",
       "      <td>NaN</td>\n",
       "      <td>-36.0</td>\n",
       "      <td>-7.8</td>\n",
       "      <td>2941.2</td>\n",
       "    </tr>\n",
       "    <tr>\n",
       "      <th>4</th>\n",
       "      <td>1955</td>\n",
       "      <td>NaN</td>\n",
       "      <td>NaN</td>\n",
       "      <td>24.7</td>\n",
       "      <td>NaN</td>\n",
       "      <td>NaN</td>\n",
       "      <td>-45.0</td>\n",
       "      <td>-20.3</td>\n",
       "      <td>2920.9</td>\n",
       "    </tr>\n",
       "    <tr>\n",
       "      <th>...</th>\n",
       "      <td>...</td>\n",
       "      <td>...</td>\n",
       "      <td>...</td>\n",
       "      <td>...</td>\n",
       "      <td>...</td>\n",
       "      <td>...</td>\n",
       "      <td>...</td>\n",
       "      <td>...</td>\n",
       "      <td>...</td>\n",
       "    </tr>\n",
       "    <tr>\n",
       "      <th>68</th>\n",
       "      <td>2019</td>\n",
       "      <td>60.5</td>\n",
       "      <td>30.9</td>\n",
       "      <td>29.6</td>\n",
       "      <td>97.1</td>\n",
       "      <td>53.1</td>\n",
       "      <td>44.0</td>\n",
       "      <td>73.6</td>\n",
       "      <td>4958.5</td>\n",
       "    </tr>\n",
       "    <tr>\n",
       "      <th>69</th>\n",
       "      <td>2020</td>\n",
       "      <td>59.1</td>\n",
       "      <td>32.4</td>\n",
       "      <td>26.7</td>\n",
       "      <td>95.6</td>\n",
       "      <td>50.9</td>\n",
       "      <td>44.7</td>\n",
       "      <td>71.4</td>\n",
       "      <td>5029.9</td>\n",
       "    </tr>\n",
       "    <tr>\n",
       "      <th>70</th>\n",
       "      <td>2021</td>\n",
       "      <td>57.3</td>\n",
       "      <td>34.3</td>\n",
       "      <td>23.0</td>\n",
       "      <td>74.1</td>\n",
       "      <td>52.3</td>\n",
       "      <td>21.8</td>\n",
       "      <td>44.8</td>\n",
       "      <td>5074.7</td>\n",
       "    </tr>\n",
       "    <tr>\n",
       "      <th>71</th>\n",
       "      <td>2022</td>\n",
       "      <td>59.7</td>\n",
       "      <td>33.6</td>\n",
       "      <td>26.1</td>\n",
       "      <td>107.8</td>\n",
       "      <td>56.1</td>\n",
       "      <td>51.7</td>\n",
       "      <td>77.8</td>\n",
       "      <td>5184.0</td>\n",
       "    </tr>\n",
       "    <tr>\n",
       "      <th>72</th>\n",
       "      <td>2023</td>\n",
       "      <td>55.5</td>\n",
       "      <td>35.5</td>\n",
       "      <td>20.0</td>\n",
       "      <td>141.6</td>\n",
       "      <td>64.0</td>\n",
       "      <td>77.6</td>\n",
       "      <td>97.6</td>\n",
       "      <td>5281.6</td>\n",
       "    </tr>\n",
       "  </tbody>\n",
       "</table>\n",
       "<p>73 rows × 9 columns</p>\n",
       "</div>"
      ],
      "text/plain": [
       "    Year  Annual births  Annual deaths  Natural increase  Immigrants  \\\n",
       "0   1951            NaN            NaN              26.6         NaN   \n",
       "1   1952            NaN            NaN              27.3         NaN   \n",
       "2   1953            NaN            NaN              29.1         NaN   \n",
       "3   1954            NaN            NaN              28.2         NaN   \n",
       "4   1955            NaN            NaN              24.7         NaN   \n",
       "..   ...            ...            ...               ...         ...   \n",
       "68  2019           60.5           30.9              29.6        97.1   \n",
       "69  2020           59.1           32.4              26.7        95.6   \n",
       "70  2021           57.3           34.3              23.0        74.1   \n",
       "71  2022           59.7           33.6              26.1       107.8   \n",
       "72  2023           55.5           35.5              20.0       141.6   \n",
       "\n",
       "    Emigrants  Net migration  Total of the Population change  \\\n",
       "0         NaN          -35.0                            -8.4   \n",
       "1         NaN          -35.0                            -7.7   \n",
       "2         NaN          -33.0                            -3.9   \n",
       "3         NaN          -36.0                            -7.8   \n",
       "4         NaN          -45.0                           -20.3   \n",
       "..        ...            ...                             ...   \n",
       "68       53.1           44.0                            73.6   \n",
       "69       50.9           44.7                            71.4   \n",
       "70       52.3           21.8                            44.8   \n",
       "71       56.1           51.7                            77.8   \n",
       "72       64.0           77.6                            97.6   \n",
       "\n",
       "    Total Population of the year  \n",
       "0                         2960.6  \n",
       "1                         2952.9  \n",
       "2                         2949.0  \n",
       "3                         2941.2  \n",
       "4                         2920.9  \n",
       "..                           ...  \n",
       "68                        4958.5  \n",
       "69                        5029.9  \n",
       "70                        5074.7  \n",
       "71                        5184.0  \n",
       "72                        5281.6  \n",
       "\n",
       "[73 rows x 9 columns]"
      ]
     },
     "execution_count": 69,
     "metadata": {},
     "output_type": "execute_result"
    }
   ],
   "source": [
    "AP"
   ]
  },
  {
   "cell_type": "code",
   "execution_count": 70,
   "id": "db73bee5",
   "metadata": {},
   "outputs": [
    {
     "data": {
      "text/plain": [
       "(73, 9)"
      ]
     },
     "execution_count": 70,
     "metadata": {},
     "output_type": "execute_result"
    }
   ],
   "source": [
    "AP.shape"
   ]
  },
  {
   "cell_type": "code",
   "execution_count": 71,
   "id": "fc47e256",
   "metadata": {},
   "outputs": [
    {
     "data": {
      "text/plain": [
       "Year                               0\n",
       "Annual births                     36\n",
       "Annual deaths                     36\n",
       "Natural increase                   0\n",
       "Immigrants                        36\n",
       "Emigrants                         36\n",
       "Net migration                      0\n",
       "Total of the Population change     0\n",
       "Total Population of the year       0\n",
       "dtype: int64"
      ]
     },
     "execution_count": 71,
     "metadata": {},
     "output_type": "execute_result"
    }
   ],
   "source": [
    "AP.isnull().sum()"
   ]
  },
  {
   "cell_type": "code",
   "execution_count": 72,
   "id": "020ca197",
   "metadata": {},
   "outputs": [
    {
     "data": {
      "text/html": [
       "<div>\n",
       "<style scoped>\n",
       "    .dataframe tbody tr th:only-of-type {\n",
       "        vertical-align: middle;\n",
       "    }\n",
       "\n",
       "    .dataframe tbody tr th {\n",
       "        vertical-align: top;\n",
       "    }\n",
       "\n",
       "    .dataframe thead th {\n",
       "        text-align: right;\n",
       "    }\n",
       "</style>\n",
       "<table border=\"1\" class=\"dataframe\">\n",
       "  <thead>\n",
       "    <tr style=\"text-align: right;\">\n",
       "      <th></th>\n",
       "      <th>Year</th>\n",
       "      <th>Annual births</th>\n",
       "      <th>Annual deaths</th>\n",
       "      <th>Natural increase</th>\n",
       "      <th>Immigrants</th>\n",
       "      <th>Emigrants</th>\n",
       "      <th>Net migration</th>\n",
       "      <th>Total of the Population change</th>\n",
       "      <th>Total Population of the year</th>\n",
       "    </tr>\n",
       "  </thead>\n",
       "  <tbody>\n",
       "    <tr>\n",
       "      <th>0</th>\n",
       "      <td>True</td>\n",
       "      <td>False</td>\n",
       "      <td>False</td>\n",
       "      <td>True</td>\n",
       "      <td>False</td>\n",
       "      <td>False</td>\n",
       "      <td>True</td>\n",
       "      <td>True</td>\n",
       "      <td>True</td>\n",
       "    </tr>\n",
       "    <tr>\n",
       "      <th>1</th>\n",
       "      <td>True</td>\n",
       "      <td>False</td>\n",
       "      <td>False</td>\n",
       "      <td>True</td>\n",
       "      <td>False</td>\n",
       "      <td>False</td>\n",
       "      <td>True</td>\n",
       "      <td>True</td>\n",
       "      <td>True</td>\n",
       "    </tr>\n",
       "    <tr>\n",
       "      <th>2</th>\n",
       "      <td>True</td>\n",
       "      <td>False</td>\n",
       "      <td>False</td>\n",
       "      <td>True</td>\n",
       "      <td>False</td>\n",
       "      <td>False</td>\n",
       "      <td>True</td>\n",
       "      <td>True</td>\n",
       "      <td>True</td>\n",
       "    </tr>\n",
       "    <tr>\n",
       "      <th>3</th>\n",
       "      <td>True</td>\n",
       "      <td>False</td>\n",
       "      <td>False</td>\n",
       "      <td>True</td>\n",
       "      <td>False</td>\n",
       "      <td>False</td>\n",
       "      <td>True</td>\n",
       "      <td>True</td>\n",
       "      <td>True</td>\n",
       "    </tr>\n",
       "    <tr>\n",
       "      <th>4</th>\n",
       "      <td>True</td>\n",
       "      <td>False</td>\n",
       "      <td>False</td>\n",
       "      <td>True</td>\n",
       "      <td>False</td>\n",
       "      <td>False</td>\n",
       "      <td>True</td>\n",
       "      <td>True</td>\n",
       "      <td>True</td>\n",
       "    </tr>\n",
       "    <tr>\n",
       "      <th>...</th>\n",
       "      <td>...</td>\n",
       "      <td>...</td>\n",
       "      <td>...</td>\n",
       "      <td>...</td>\n",
       "      <td>...</td>\n",
       "      <td>...</td>\n",
       "      <td>...</td>\n",
       "      <td>...</td>\n",
       "      <td>...</td>\n",
       "    </tr>\n",
       "    <tr>\n",
       "      <th>68</th>\n",
       "      <td>True</td>\n",
       "      <td>True</td>\n",
       "      <td>True</td>\n",
       "      <td>True</td>\n",
       "      <td>True</td>\n",
       "      <td>True</td>\n",
       "      <td>True</td>\n",
       "      <td>True</td>\n",
       "      <td>True</td>\n",
       "    </tr>\n",
       "    <tr>\n",
       "      <th>69</th>\n",
       "      <td>True</td>\n",
       "      <td>True</td>\n",
       "      <td>True</td>\n",
       "      <td>True</td>\n",
       "      <td>True</td>\n",
       "      <td>True</td>\n",
       "      <td>True</td>\n",
       "      <td>True</td>\n",
       "      <td>True</td>\n",
       "    </tr>\n",
       "    <tr>\n",
       "      <th>70</th>\n",
       "      <td>True</td>\n",
       "      <td>True</td>\n",
       "      <td>True</td>\n",
       "      <td>True</td>\n",
       "      <td>True</td>\n",
       "      <td>True</td>\n",
       "      <td>True</td>\n",
       "      <td>True</td>\n",
       "      <td>True</td>\n",
       "    </tr>\n",
       "    <tr>\n",
       "      <th>71</th>\n",
       "      <td>True</td>\n",
       "      <td>True</td>\n",
       "      <td>True</td>\n",
       "      <td>True</td>\n",
       "      <td>True</td>\n",
       "      <td>True</td>\n",
       "      <td>True</td>\n",
       "      <td>True</td>\n",
       "      <td>True</td>\n",
       "    </tr>\n",
       "    <tr>\n",
       "      <th>72</th>\n",
       "      <td>True</td>\n",
       "      <td>True</td>\n",
       "      <td>True</td>\n",
       "      <td>True</td>\n",
       "      <td>True</td>\n",
       "      <td>True</td>\n",
       "      <td>True</td>\n",
       "      <td>True</td>\n",
       "      <td>True</td>\n",
       "    </tr>\n",
       "  </tbody>\n",
       "</table>\n",
       "<p>73 rows × 9 columns</p>\n",
       "</div>"
      ],
      "text/plain": [
       "    Year  Annual births  Annual deaths  Natural increase  Immigrants  \\\n",
       "0   True          False          False              True       False   \n",
       "1   True          False          False              True       False   \n",
       "2   True          False          False              True       False   \n",
       "3   True          False          False              True       False   \n",
       "4   True          False          False              True       False   \n",
       "..   ...            ...            ...               ...         ...   \n",
       "68  True           True           True              True        True   \n",
       "69  True           True           True              True        True   \n",
       "70  True           True           True              True        True   \n",
       "71  True           True           True              True        True   \n",
       "72  True           True           True              True        True   \n",
       "\n",
       "    Emigrants  Net migration  Total of the Population change  \\\n",
       "0       False           True                            True   \n",
       "1       False           True                            True   \n",
       "2       False           True                            True   \n",
       "3       False           True                            True   \n",
       "4       False           True                            True   \n",
       "..        ...            ...                             ...   \n",
       "68       True           True                            True   \n",
       "69       True           True                            True   \n",
       "70       True           True                            True   \n",
       "71       True           True                            True   \n",
       "72       True           True                            True   \n",
       "\n",
       "    Total Population of the year  \n",
       "0                           True  \n",
       "1                           True  \n",
       "2                           True  \n",
       "3                           True  \n",
       "4                           True  \n",
       "..                           ...  \n",
       "68                          True  \n",
       "69                          True  \n",
       "70                          True  \n",
       "71                          True  \n",
       "72                          True  \n",
       "\n",
       "[73 rows x 9 columns]"
      ]
     },
     "execution_count": 72,
     "metadata": {},
     "output_type": "execute_result"
    }
   ],
   "source": [
    "AP.notnull()"
   ]
  },
  {
   "cell_type": "code",
   "execution_count": 74,
   "id": "81837b94",
   "metadata": {},
   "outputs": [],
   "source": [
    "#clase=AP.dropna(axis= \"columns\") will delete the whole column if any information is missing in any row, on a new file\n",
    "#clase=AP.dropna(axis= \"columns\", inplace = True)will delete the entire column if any information is missing in any row, from the original file.\n",
    "#AP.dropna(axis= 0 , inplace = True)will delete only the columns that have no information in the original file.\n",
    "\n",
    "AP.dropna(axis= 0 , inplace = True)"
   ]
  },
  {
   "cell_type": "code",
   "execution_count": 75,
   "id": "18253d24",
   "metadata": {},
   "outputs": [
    {
     "data": {
      "text/plain": [
       "Year                                int64\n",
       "Annual births                     float64\n",
       "Annual deaths                     float64\n",
       "Natural increase                  float64\n",
       "Immigrants                        float64\n",
       "Emigrants                         float64\n",
       "Net migration                     float64\n",
       "Total of the Population change    float64\n",
       "Total Population of the year      float64\n",
       "dtype: object"
      ]
     },
     "execution_count": 75,
     "metadata": {},
     "output_type": "execute_result"
    }
   ],
   "source": [
    "AP.dtypes\n"
   ]
  },
  {
   "cell_type": "code",
   "execution_count": 76,
   "id": "9f575b64",
   "metadata": {},
   "outputs": [
    {
     "name": "stdout",
     "output_type": "stream",
     "text": [
      "<class 'pandas.core.frame.DataFrame'>\n",
      "Int64Index: 37 entries, 36 to 72\n",
      "Data columns (total 9 columns):\n",
      " #   Column                          Non-Null Count  Dtype  \n",
      "---  ------                          --------------  -----  \n",
      " 0   Year                            37 non-null     int64  \n",
      " 1   Annual births                   37 non-null     float64\n",
      " 2   Annual deaths                   37 non-null     float64\n",
      " 3   Natural increase                37 non-null     float64\n",
      " 4   Immigrants                      37 non-null     float64\n",
      " 5   Emigrants                       37 non-null     float64\n",
      " 6   Net migration                   37 non-null     float64\n",
      " 7   Total of the Population change  37 non-null     float64\n",
      " 8   Total Population of the year    37 non-null     float64\n",
      "dtypes: float64(8), int64(1)\n",
      "memory usage: 2.9 KB\n"
     ]
    }
   ],
   "source": [
    "AP.info()"
   ]
  },
  {
   "cell_type": "code",
   "execution_count": 77,
   "id": "79a9c105",
   "metadata": {
    "scrolled": true
   },
   "outputs": [
    {
     "data": {
      "text/plain": [
       "Year                              37\n",
       "Annual births                     37\n",
       "Annual deaths                     37\n",
       "Natural increase                  37\n",
       "Immigrants                        37\n",
       "Emigrants                         37\n",
       "Net migration                     37\n",
       "Total of the Population change    37\n",
       "Total Population of the year      37\n",
       "dtype: int64"
      ]
     },
     "execution_count": 77,
     "metadata": {},
     "output_type": "execute_result"
    }
   ],
   "source": [
    "AP.count()"
   ]
  },
  {
   "cell_type": "code",
   "execution_count": null,
   "id": "69acce19",
   "metadata": {},
   "outputs": [],
   "source": [
    "#First graphs of births and deaths by year "
   ]
  },
  {
   "cell_type": "code",
   "execution_count": 84,
   "id": "1111d4a4",
   "metadata": {},
   "outputs": [
    {
     "ename": "NameError",
     "evalue": "name 'plot' is not defined",
     "output_type": "error",
     "traceback": [
      "\u001b[1;31m---------------------------------------------------------------------------\u001b[0m",
      "\u001b[1;31mNameError\u001b[0m                                 Traceback (most recent call last)",
      "Cell \u001b[1;32mIn[84], line 3\u001b[0m\n\u001b[0;32m      1\u001b[0m AD \u001b[38;5;241m=\u001b[39m sns\u001b[38;5;241m.\u001b[39mbarplot(x\u001b[38;5;241m=\u001b[39m\u001b[38;5;124m'\u001b[39m\u001b[38;5;124mYear\u001b[39m\u001b[38;5;124m'\u001b[39m, y\u001b[38;5;241m=\u001b[39m\u001b[38;5;124m'\u001b[39m\u001b[38;5;124mAnnual births\u001b[39m\u001b[38;5;124m'\u001b[39m, data\u001b[38;5;241m=\u001b[39mAP)\n\u001b[0;32m      2\u001b[0m AD\u001b[38;5;241m.\u001b[39mset_xticklabels(AD\u001b[38;5;241m.\u001b[39mget_xticklabels(), rotation\u001b[38;5;241m=\u001b[39m\u001b[38;5;241m90\u001b[39m)\n\u001b[1;32m----> 3\u001b[0m plot\u001b[38;5;241m.\u001b[39mshow()\n",
      "\u001b[1;31mNameError\u001b[0m: name 'plot' is not defined"
     ]
    },
    {
     "data": {
      "image/png": "[encoded data removed]",
      "text/plain": [
       "<Figure size 640x480 with 1 Axes>"
      ]
     },
     "metadata": {},
     "output_type": "display_data"
    }
   ],
   "source": [
    "#Annual births\n",
    "AD = sns.barplot(x='Year', y='Annual births', data=AP)\n",
    "AD.set_xticklabels(AD.get_xticklabels(), rotation=90)\n",
    "plot.show()"
   ]
  },
  {
   "cell_type": "code",
   "execution_count": 93,
   "id": "026fd504",
   "metadata": {},
   "outputs": [
    {
     "data": {
      "image/png": "[encoded data removed]",
      "text/plain": [
       "<Figure size 640x480 with 1 Axes>"
      ]
     },
     "metadata": {},
     "output_type": "display_data"
    }
   ],
   "source": [
    "#Annual Deaths\n",
    "values=AP[[\"Year\",\"Annual births\",\"Annual deaths\",\"Natural increase\",\"Immigrants\",\"Emigrants\"]]\n",
    "ax= values.plot.bar(x=\"Year\", y=\"Annual deaths\")"
   ]
  },
  {
   "cell_type": "code",
   "execution_count": null,
   "id": "5fda2974",
   "metadata": {},
   "outputs": [],
   "source": [
    "#Comparative births and deaths in the same years"
   ]
  },
  {
   "cell_type": "code",
   "execution_count": 94,
   "id": "0e423bbb",
   "metadata": {},
   "outputs": [
    {
     "ename": "InvalidIndexError",
     "evalue": "('Annual births', 36    32.2\n37    31.6\n38    31.0\n39    32.8\n40    31.1\n41    31.4\n42    30.4\n43    32.6\n44    31.2\n45    32.0\n46    31.7\n47    31.2\n48    32.4\n49    32.1\n50    30.2\n51    29.3\n52    28.9\n53    28.6\n54    27.9\n55    27.0\n56    28.4\n57    28.0\n58    28.6\n59    28.4\n60    27.7\n61    28.7\n62    29.8\n63    29.2\n64    29.9\n65    29.8\n66    31.3\n67    32.0\n68    30.9\n69    32.4\n70    34.3\n71    33.6\n72    35.5\nName: Annual deaths, dtype: float64)",
     "output_type": "error",
     "traceback": [
      "\u001b[1;31m---------------------------------------------------------------------------\u001b[0m",
      "\u001b[1;31mTypeError\u001b[0m                                 Traceback (most recent call last)",
      "File \u001b[1;32m~\\anaconda4\\Lib\\site-packages\\pandas\\core\\indexes\\base.py:3802\u001b[0m, in \u001b[0;36mIndex.get_loc\u001b[1;34m(self, key, method, tolerance)\u001b[0m\n\u001b[0;32m   3801\u001b[0m \u001b[38;5;28;01mtry\u001b[39;00m:\n\u001b[1;32m-> 3802\u001b[0m     \u001b[38;5;28;01mreturn\u001b[39;00m \u001b[38;5;28mself\u001b[39m\u001b[38;5;241m.\u001b[39m_engine\u001b[38;5;241m.\u001b[39mget_loc(casted_key)\n\u001b[0;32m   3803\u001b[0m \u001b[38;5;28;01mexcept\u001b[39;00m \u001b[38;5;167;01mKeyError\u001b[39;00m \u001b[38;5;28;01mas\u001b[39;00m err:\n",
      "File \u001b[1;32m~\\anaconda4\\Lib\\site-packages\\pandas\\_libs\\index.pyx:138\u001b[0m, in \u001b[0;36mpandas._libs.index.IndexEngine.get_loc\u001b[1;34m()\u001b[0m\n",
      "File \u001b[1;32m~\\anaconda4\\Lib\\site-packages\\pandas\\_libs\\index.pyx:144\u001b[0m, in \u001b[0;36mpandas._libs.index.IndexEngine.get_loc\u001b[1;34m()\u001b[0m\n",
      "\u001b[1;31mTypeError\u001b[0m: '('Annual births', 36    32.2\n37    31.6\n38    31.0\n39    32.8\n40    31.1\n41    31.4\n42    30.4\n43    32.6\n44    31.2\n45    32.0\n46    31.7\n47    31.2\n48    32.4\n49    32.1\n50    30.2\n51    29.3\n52    28.9\n53    28.6\n54    27.9\n55    27.0\n56    28.4\n57    28.0\n58    28.6\n59    28.4\n60    27.7\n61    28.7\n62    29.8\n63    29.2\n64    29.9\n65    29.8\n66    31.3\n67    32.0\n68    30.9\n69    32.4\n70    34.3\n71    33.6\n72    35.5\nName: Annual deaths, dtype: float64)' is an invalid key",
      "\nDuring handling of the above exception, another exception occurred:\n",
      "\u001b[1;31mInvalidIndexError\u001b[0m                         Traceback (most recent call last)",
      "Cell \u001b[1;32mIn[94], line 2\u001b[0m\n\u001b[0;32m      1\u001b[0m \u001b[38;5;66;03m#Barplot\u001b[39;00m\n\u001b[1;32m----> 2\u001b[0m AD\u001b[38;5;241m=\u001b[39msns\u001b[38;5;241m.\u001b[39mbarplot(AP[\u001b[38;5;124m'\u001b[39m\u001b[38;5;124mAnnual births\u001b[39m\u001b[38;5;124m'\u001b[39m,AP[\u001b[38;5;124m'\u001b[39m\u001b[38;5;124mAnnual deaths\u001b[39m\u001b[38;5;124m'\u001b[39m]])\n\u001b[0;32m      3\u001b[0m plt\u001b[38;5;241m.\u001b[39mshow()\n",
      "File \u001b[1;32m~\\anaconda4\\Lib\\site-packages\\pandas\\core\\frame.py:3807\u001b[0m, in \u001b[0;36mDataFrame.__getitem__\u001b[1;34m(self, key)\u001b[0m\n\u001b[0;32m   3805\u001b[0m \u001b[38;5;28;01mif\u001b[39;00m \u001b[38;5;28mself\u001b[39m\u001b[38;5;241m.\u001b[39mcolumns\u001b[38;5;241m.\u001b[39mnlevels \u001b[38;5;241m>\u001b[39m \u001b[38;5;241m1\u001b[39m:\n\u001b[0;32m   3806\u001b[0m     \u001b[38;5;28;01mreturn\u001b[39;00m \u001b[38;5;28mself\u001b[39m\u001b[38;5;241m.\u001b[39m_getitem_multilevel(key)\n\u001b[1;32m-> 3807\u001b[0m indexer \u001b[38;5;241m=\u001b[39m \u001b[38;5;28mself\u001b[39m\u001b[38;5;241m.\u001b[39mcolumns\u001b[38;5;241m.\u001b[39mget_loc(key)\n\u001b[0;32m   3808\u001b[0m \u001b[38;5;28;01mif\u001b[39;00m is_integer(indexer):\n\u001b[0;32m   3809\u001b[0m     indexer \u001b[38;5;241m=\u001b[39m [indexer]\n",
      "File \u001b[1;32m~\\anaconda4\\Lib\\site-packages\\pandas\\core\\indexes\\base.py:3809\u001b[0m, in \u001b[0;36mIndex.get_loc\u001b[1;34m(self, key, method, tolerance)\u001b[0m\n\u001b[0;32m   3804\u001b[0m         \u001b[38;5;28;01mraise\u001b[39;00m \u001b[38;5;167;01mKeyError\u001b[39;00m(key) \u001b[38;5;28;01mfrom\u001b[39;00m \u001b[38;5;21;01merr\u001b[39;00m\n\u001b[0;32m   3805\u001b[0m     \u001b[38;5;28;01mexcept\u001b[39;00m \u001b[38;5;167;01mTypeError\u001b[39;00m:\n\u001b[0;32m   3806\u001b[0m         \u001b[38;5;66;03m# If we have a listlike key, _check_indexing_error will raise\u001b[39;00m\n\u001b[0;32m   3807\u001b[0m         \u001b[38;5;66;03m#  InvalidIndexError. Otherwise we fall through and re-raise\u001b[39;00m\n\u001b[0;32m   3808\u001b[0m         \u001b[38;5;66;03m#  the TypeError.\u001b[39;00m\n\u001b[1;32m-> 3809\u001b[0m         \u001b[38;5;28mself\u001b[39m\u001b[38;5;241m.\u001b[39m_check_indexing_error(key)\n\u001b[0;32m   3810\u001b[0m         \u001b[38;5;28;01mraise\u001b[39;00m\n\u001b[0;32m   3812\u001b[0m \u001b[38;5;66;03m# GH#42269\u001b[39;00m\n",
      "File \u001b[1;32m~\\anaconda4\\Lib\\site-packages\\pandas\\core\\indexes\\base.py:5925\u001b[0m, in \u001b[0;36mIndex._check_indexing_error\u001b[1;34m(self, key)\u001b[0m\n\u001b[0;32m   5921\u001b[0m \u001b[38;5;28;01mdef\u001b[39;00m \u001b[38;5;21m_check_indexing_error\u001b[39m(\u001b[38;5;28mself\u001b[39m, key):\n\u001b[0;32m   5922\u001b[0m     \u001b[38;5;28;01mif\u001b[39;00m \u001b[38;5;129;01mnot\u001b[39;00m is_scalar(key):\n\u001b[0;32m   5923\u001b[0m         \u001b[38;5;66;03m# if key is not a scalar, directly raise an error (the code below\u001b[39;00m\n\u001b[0;32m   5924\u001b[0m         \u001b[38;5;66;03m# would convert to numpy arrays and raise later any way) - GH29926\u001b[39;00m\n\u001b[1;32m-> 5925\u001b[0m         \u001b[38;5;28;01mraise\u001b[39;00m InvalidIndexError(key)\n",
      "\u001b[1;31mInvalidIndexError\u001b[0m: ('Annual births', 36    32.2\n37    31.6\n38    31.0\n39    32.8\n40    31.1\n41    31.4\n42    30.4\n43    32.6\n44    31.2\n45    32.0\n46    31.7\n47    31.2\n48    32.4\n49    32.1\n50    30.2\n51    29.3\n52    28.9\n53    28.6\n54    27.9\n55    27.0\n56    28.4\n57    28.0\n58    28.6\n59    28.4\n60    27.7\n61    28.7\n62    29.8\n63    29.2\n64    29.9\n65    29.8\n66    31.3\n67    32.0\n68    30.9\n69    32.4\n70    34.3\n71    33.6\n72    35.5\nName: Annual deaths, dtype: float64)"
     ]
    }
   ],
   "source": [
    "#Barplot\n",
    "AD=sns.barplot(AP['Annual births',AP['Annual deaths']])\n",
    "plt.show()"
   ]
  },
  {
   "cell_type": "code",
   "execution_count": 96,
   "id": "81b486eb",
   "metadata": {},
   "outputs": [
    {
     "ename": "SyntaxError",
     "evalue": "invalid syntax. Perhaps you forgot a comma? (4010497677.py, line 1)",
     "output_type": "error",
     "traceback": [
      "\u001b[1;36m  Cell \u001b[1;32mIn[96], line 1\u001b[1;36m\u001b[0m\n\u001b[1;33m    plt.bar(x, Annual deaths,w, label=\"Annual deaths\")\u001b[0m\n\u001b[1;37m               ^\u001b[0m\n\u001b[1;31mSyntaxError\u001b[0m\u001b[1;31m:\u001b[0m invalid syntax. Perhaps you forgot a comma?\n"
     ]
    }
   ],
   "source": [
    "w=\n",
    "plt.bar(x, Annual deaths,w, label=\"Annual deaths\")\n",
    "plt.bar(x, Annual births, w,bottom=Annual deaths, label=\"Annual births\" )\n",
    "\n",
    "plt.xlabel(\"Births and deaths\")\n",
    "plt.ylabel(\"Year\")\n",
    "plt.tittle(\"Comparative births and deaths in the same years\")\n",
    "plt.legend()\n",
    "plt.show()"
   ]
  },
  {
   "cell_type": "code",
   "execution_count": null,
   "id": "95977a81",
   "metadata": {},
   "outputs": [],
   "source": [
    "# First graph. Bar chart"
   ]
  },
  {
   "cell_type": "code",
   "execution_count": null,
   "id": "9ea3cdea",
   "metadata": {},
   "outputs": [],
   "source": []
  },
  {
   "cell_type": "code",
   "execution_count": 85,
   "id": "f16467ae",
   "metadata": {},
   "outputs": [
    {
     "data": {
      "text/plain": [
       "<Axes: xlabel='Annual deaths'>"
      ]
     },
     "execution_count": 85,
     "metadata": {},
     "output_type": "execute_result"
    },
    {
     "data": {
      "image/png": "[encoded data removed]",
      "text/plain": [
       "<Figure size 640x480 with 1 Axes>"
      ]
     },
     "metadata": {},
     "output_type": "display_data"
    }
   ],
   "source": [
    "sns.boxplot(x=AP[\"Annual deaths\"])"
   ]
  },
  {
   "cell_type": "code",
   "execution_count": 86,
   "id": "c42b20db",
   "metadata": {},
   "outputs": [
    {
     "data": {
      "image/png": "[encoded data removed]",
      "text/plain": [
       "<Figure size 640x480 with 1 Axes>"
      ]
     },
     "metadata": {},
     "output_type": "display_data"
    }
   ],
   "source": []
  },
  {
   "cell_type": "code",
   "execution_count": 87,
   "id": "2da7c602",
   "metadata": {},
   "outputs": [
    {
     "data": {
      "text/plain": [
       "(array([1., 3., 4., 3., 3., 2., 2., 6., 4., 5., 1., 1., 1., 0., 1.]),\n",
       " array([27.        , 27.56666667, 28.13333333, 28.7       , 29.26666667,\n",
       "        29.83333333, 30.4       , 30.96666667, 31.53333333, 32.1       ,\n",
       "        32.66666667, 33.23333333, 33.8       , 34.36666667, 34.93333333,\n",
       "        35.5       ]),\n",
       " <BarContainer object of 15 artists>)"
      ]
     },
     "execution_count": 87,
     "metadata": {},
     "output_type": "execute_result"
    },
    {
     "data": {
      "image/png": "[encoded data removed]",
      "text/plain": [
       "<Figure size 640x480 with 1 Axes>"
      ]
     },
     "metadata": {},
     "output_type": "display_data"
    }
   ],
   "source": [
    "plt.hist(AP[\"Annual deaths\"],15, color=\"green\", ec=\"black\")"
   ]
  },
  {
   "cell_type": "code",
   "execution_count": 88,
   "id": "0234058a",
   "metadata": {},
   "outputs": [
    {
     "data": {
      "image/png": "[encoded data removed]",
      "text/plain": [
       "<Figure size 640x480 with 1 Axes>"
      ]
     },
     "metadata": {},
     "output_type": "display_data"
    }
   ],
   "source": [
    "grafico= sns.countplot(x='Annual births', hue='Year',palette='hot_r',data= AP)\n",
    "grafico.set(title='Annual births since 1950',\n",
    "           xlabel='Year', ylabel='total in thousent')\n",
    "plt.show()"
   ]
  },
  {
   "cell_type": "code",
   "execution_count": 89,
   "id": "d46c0127",
   "metadata": {},
   "outputs": [
    {
     "name": "stdout",
     "output_type": "stream",
     "text": [
      "<class 'pandas.core.frame.DataFrame'>\n",
      "Int64Index: 37 entries, 36 to 72\n",
      "Data columns (total 9 columns):\n",
      " #   Column                          Non-Null Count  Dtype  \n",
      "---  ------                          --------------  -----  \n",
      " 0   Year                            37 non-null     int64  \n",
      " 1   Annual births                   37 non-null     float64\n",
      " 2   Annual deaths                   37 non-null     float64\n",
      " 3   Natural increase                37 non-null     float64\n",
      " 4   Immigrants                      37 non-null     float64\n",
      " 5   Emigrants                       37 non-null     float64\n",
      " 6   Net migration                   37 non-null     float64\n",
      " 7   Total of the Population change  37 non-null     float64\n",
      " 8   Total Population of the year    37 non-null     float64\n",
      "dtypes: float64(8), int64(1)\n",
      "memory usage: 2.9 KB\n"
     ]
    }
   ],
   "source": [
    "AP.info()"
   ]
  }
 ],
 "metadata": {
  "kernelspec": {
   "display_name": "Python 3 (ipykernel)",
   "language": "python",
   "name": "python3"
  },
  "language_info": {
   "codemirror_mode": {
    "name": "ipython",
    "version": 3
   },
   "file_extension": ".py",
   "mimetype": "text/x-python",
   "name": "python",
   "nbconvert_exporter": "python",
   "pygments_lexer": "ipython3",
   "version": "3.11.4"
  }
 },
 "nbformat": 4,
 "nbformat_minor": 5
}
